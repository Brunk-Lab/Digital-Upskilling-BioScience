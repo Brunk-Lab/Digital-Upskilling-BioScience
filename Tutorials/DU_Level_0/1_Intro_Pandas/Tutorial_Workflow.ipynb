{
 "cells": [
  {
   "cell_type": "markdown",
   "id": "37b59392",
   "metadata": {},
   "source": [
    "# Python Pandas Tutorial: A Complete Introduction for Beginners"
   ]
  },
  {
   "cell_type": "markdown",
   "id": "09e00ad1",
   "metadata": {},
   "source": [
    "## 1.0 Core components of pandas: Series and DataFrames\n",
    "\n",
    "The primary two components of pandas are the `Series` and `DataFrame`. \n",
    "\n",
    "A `Series` is essentially a column, and a `DataFrame` is a multi-dimensional table made up of a collection of Series. \n",
    "\n",
    "<img src=\"series-and-dataframe.png\" width=600px />\n",
    "\n",
    "DataFrames and Series are quite similar in that many operations that you can do with one, you can do with the other- such as filling in null values and calculating the mean.\n",
    "\n",
    "You'll see how these components work when we start working with data below. "
   ]
  },
  {
   "cell_type": "markdown",
   "id": "0efcd9ec",
   "metadata": {},
   "source": [
    "Before we get started, we have to load the python library, Pandas into our ipython notebook.\n",
    "\n",
    "This is done using the following command: "
   ]
  },
  {
   "cell_type": "code",
   "execution_count": 1,
   "id": "ad81e8fe",
   "metadata": {},
   "outputs": [],
   "source": [
    "import pandas as pd"
   ]
  },
  {
   "cell_type": "markdown",
   "id": "a10dbd45",
   "metadata": {},
   "source": [
    "### Creating DataFrames from scratch\n",
    "Creating DataFrames directly in Python is good to know, and quite useful when testing new methods and functions you find in the pandas docs.\n",
    "\n",
    "There are *many* ways to create a DataFrame from scratch, but a great option is to just use a simple `dict`. \n",
    "\n",
    "Let's say we have a fruit stand that sells apples and oranges. We want to have a column for each fruit and a row for each customer purchase. To organize this as a dictionary for pandas we could do something like:"
   ]
  },
  {
   "cell_type": "code",
   "execution_count": 2,
   "id": "224d9218",
   "metadata": {},
   "outputs": [],
   "source": [
    "fruit = {\n",
    "    'apples': [3, 2, 0, 1], \n",
    "    'oranges': [0, 3, 7, 2]\n",
    "}"
   ]
  },
  {
   "cell_type": "markdown",
   "id": "7e53a79b",
   "metadata": {},
   "source": [
    "And then pass it to the pandas DataFrame constructor:"
   ]
  },
  {
   "cell_type": "code",
   "execution_count": 3,
   "id": "f18a9dfc",
   "metadata": {},
   "outputs": [
    {
     "data": {
      "text/html": [
       "<div>\n",
       "<style scoped>\n",
       "    .dataframe tbody tr th:only-of-type {\n",
       "        vertical-align: middle;\n",
       "    }\n",
       "\n",
       "    .dataframe tbody tr th {\n",
       "        vertical-align: top;\n",
       "    }\n",
       "\n",
       "    .dataframe thead th {\n",
       "        text-align: right;\n",
       "    }\n",
       "</style>\n",
       "<table border=\"1\" class=\"dataframe\">\n",
       "  <thead>\n",
       "    <tr style=\"text-align: right;\">\n",
       "      <th></th>\n",
       "      <th>apples</th>\n",
       "      <th>oranges</th>\n",
       "    </tr>\n",
       "  </thead>\n",
       "  <tbody>\n",
       "    <tr>\n",
       "      <th>0</th>\n",
       "      <td>3</td>\n",
       "      <td>0</td>\n",
       "    </tr>\n",
       "    <tr>\n",
       "      <th>1</th>\n",
       "      <td>2</td>\n",
       "      <td>3</td>\n",
       "    </tr>\n",
       "    <tr>\n",
       "      <th>2</th>\n",
       "      <td>0</td>\n",
       "      <td>7</td>\n",
       "    </tr>\n",
       "    <tr>\n",
       "      <th>3</th>\n",
       "      <td>1</td>\n",
       "      <td>2</td>\n",
       "    </tr>\n",
       "  </tbody>\n",
       "</table>\n",
       "</div>"
      ],
      "text/plain": [
       "   apples  oranges\n",
       "0       3        0\n",
       "1       2        3\n",
       "2       0        7\n",
       "3       1        2"
      ]
     },
     "execution_count": 3,
     "metadata": {},
     "output_type": "execute_result"
    }
   ],
   "source": [
    "purchases = pd.DataFrame(fruit)\n",
    "\n",
    "purchases"
   ]
  },
  {
   "cell_type": "markdown",
   "id": "e4f10ee7",
   "metadata": {},
   "source": [
    "**How did that work?**\n",
    "\n",
    "Each *(key, value)* item in `data` corresponds to a *column* in the resulting DataFrame.\n",
    "\n",
    "> the keys in this example are \"apples\" and \"oranges\", the values in this example are the numbers that go along with each key\n",
    "\n",
    "The **Index** of this DataFrame was numbered automatically, but we can also create our own when we initialize the DataFrame. \n",
    "\n",
    "Let's have customer names as our index: "
   ]
  },
  {
   "cell_type": "code",
   "execution_count": 4,
   "id": "e0e903d1",
   "metadata": {},
   "outputs": [
    {
     "data": {
      "text/html": [
       "<div>\n",
       "<style scoped>\n",
       "    .dataframe tbody tr th:only-of-type {\n",
       "        vertical-align: middle;\n",
       "    }\n",
       "\n",
       "    .dataframe tbody tr th {\n",
       "        vertical-align: top;\n",
       "    }\n",
       "\n",
       "    .dataframe thead th {\n",
       "        text-align: right;\n",
       "    }\n",
       "</style>\n",
       "<table border=\"1\" class=\"dataframe\">\n",
       "  <thead>\n",
       "    <tr style=\"text-align: right;\">\n",
       "      <th></th>\n",
       "      <th>apples</th>\n",
       "      <th>oranges</th>\n",
       "    </tr>\n",
       "  </thead>\n",
       "  <tbody>\n",
       "    <tr>\n",
       "      <th>June</th>\n",
       "      <td>3</td>\n",
       "      <td>0</td>\n",
       "    </tr>\n",
       "    <tr>\n",
       "      <th>Robert</th>\n",
       "      <td>2</td>\n",
       "      <td>3</td>\n",
       "    </tr>\n",
       "    <tr>\n",
       "      <th>Lily</th>\n",
       "      <td>0</td>\n",
       "      <td>7</td>\n",
       "    </tr>\n",
       "    <tr>\n",
       "      <th>David</th>\n",
       "      <td>1</td>\n",
       "      <td>2</td>\n",
       "    </tr>\n",
       "  </tbody>\n",
       "</table>\n",
       "</div>"
      ],
      "text/plain": [
       "        apples  oranges\n",
       "June         3        0\n",
       "Robert       2        3\n",
       "Lily         0        7\n",
       "David        1        2"
      ]
     },
     "execution_count": 4,
     "metadata": {},
     "output_type": "execute_result"
    }
   ],
   "source": [
    "purchases = pd.DataFrame(fruit, index=['June', 'Robert', 'Lily', 'David'])\n",
    "\n",
    "purchases"
   ]
  },
  {
   "cell_type": "markdown",
   "id": "810d26c7",
   "metadata": {},
   "source": [
    "So now we could **loc**ate a customer's order by using their name:"
   ]
  },
  {
   "cell_type": "code",
   "execution_count": 5,
   "id": "8ad4a5a3",
   "metadata": {},
   "outputs": [
    {
     "data": {
      "text/plain": [
       "apples     3\n",
       "oranges    0\n",
       "Name: June, dtype: int64"
      ]
     },
     "execution_count": 5,
     "metadata": {},
     "output_type": "execute_result"
    }
   ],
   "source": [
    "purchases.loc['June']"
   ]
  },
  {
   "cell_type": "markdown",
   "id": "6c041afb",
   "metadata": {},
   "source": [
    "If we want to be more specific, we could locate a customer's order and the specific item ordered:"
   ]
  },
  {
   "cell_type": "code",
   "execution_count": 6,
   "id": "ef5bd76d",
   "metadata": {},
   "outputs": [
    {
     "data": {
      "text/plain": [
       "3"
      ]
     },
     "execution_count": 6,
     "metadata": {},
     "output_type": "execute_result"
    }
   ],
   "source": [
    "purchases.loc['June']['apples']"
   ]
  },
  {
   "cell_type": "markdown",
   "id": "18ff7c12",
   "metadata": {},
   "source": [
    "**Summary**\n",
    "\n",
    "The customer *June* purchased 3 apples and 0 oranges\n",
    "\n",
    "This may seem basic now, but imagine having more than 10,000 rows of data. This would bog down excel, whereas Pandas would be able to handle it like a champ"
   ]
  },
  {
   "cell_type": "markdown",
   "id": "dfe55e61",
   "metadata": {},
   "source": [
    "## Exercise\n",
    "\n",
    "**Try on your own**\n",
    "\n",
    "1. Create a dataframe of the top four countries in the infographic below. Include the income and income tax.\n",
    "\n",
    "2. Make the index the data on each country (e.g. net income, income tax, and social security contributions)\n",
    "\n",
    "3. Locate the income and income tax for \"Iceland\"\n",
    "\n",
    "<img src=\"world_income.jpeg\" width=600px />\n"
   ]
  },
  {
   "cell_type": "markdown",
   "id": "e2d38ed3",
   "metadata": {},
   "source": [
    "## Hint: \n",
    "\n",
    "To each exercise, navigate with your mouse to the \"insert\" tab, then click \"insert cell below\". \n",
    "\n",
    "This will insert a new cell that you can start typing in! \n",
    "\n",
    "I've started the first one for you - you have to add two more countries to the dictionary in the cell below. \n",
    "\n",
    "* Important - pay attention to commas, brackets, colons -- they are all necessary! "
   ]
  },
  {
   "cell_type": "code",
   "execution_count": 7,
   "id": "b67df7a8",
   "metadata": {},
   "outputs": [],
   "source": [
    "# add the next two countries, using the same style as below:\n",
    "\n",
    "countries = {\n",
    "    'Switzerland': [58864, 16.9, 6.2], \n",
    "    'Luxembourg': [46593, 29.1, 12.3],\n",
    "    'Iceland': [45390, 28.7, 6.2], \n",
    "    'Korea': [46593, 29.1, 12.3],\n",
    "}"
   ]
  },
  {
   "cell_type": "code",
   "execution_count": null,
   "id": "ee24c863",
   "metadata": {},
   "outputs": [],
   "source": [
    "sandwiches = pd.DataFrame(countries)\n",
    "\n",
    "sandwiches"
   ]
  },
  {
   "cell_type": "code",
   "execution_count": null,
   "id": "34624511",
   "metadata": {},
   "outputs": [],
   "source": [
    "sandwiches = pd.DataFrame(countries, index=['Net income', 'income tax', 'SSN'])\n",
    "\n",
    "sandwiches"
   ]
  },
  {
   "cell_type": "markdown",
   "id": "10803e2e",
   "metadata": {},
   "source": [
    "_____________________________________________________"
   ]
  },
  {
   "cell_type": "markdown",
   "id": "6e98d649",
   "metadata": {},
   "source": [
    "## 2.0 How to read in data\n",
    "\n",
    "It’s quite simple to load data from various file formats into a DataFrame. In the following examples we'll keep using our apples and oranges data, but this time it's coming from various files."
   ]
  },
  {
   "cell_type": "code",
   "execution_count": null,
   "id": "b56740f0",
   "metadata": {},
   "outputs": [],
   "source": [
    "df = pd.read_csv('purchases.csv')\n",
    "\n",
    "df"
   ]
  },
  {
   "cell_type": "markdown",
   "id": "b36c3a51",
   "metadata": {},
   "source": [
    "Notice the \"header\" has \"Unnamed: 0\" - This is because CSVs don't have indexes like our DataFrames, so all we need to do is just designate the `index_col` when reading:"
   ]
  },
  {
   "cell_type": "code",
   "execution_count": null,
   "id": "89f85e7b",
   "metadata": {},
   "outputs": [],
   "source": [
    "df = pd.read_csv('purchases.csv', index_col=0)\n",
    "\n",
    "df"
   ]
  },
  {
   "cell_type": "markdown",
   "id": "30681573",
   "metadata": {},
   "source": [
    "### Converting back to a CSV\n",
    "\n",
    "If you make changes to your dataframe, you may want to save your work. Similar to the ways we read in data, pandas provides intuitive commands to save it:"
   ]
  },
  {
   "cell_type": "code",
   "execution_count": null,
   "id": "cdb850be",
   "metadata": {},
   "outputs": [],
   "source": [
    "df.to_csv('new_purchases.csv')\n"
   ]
  },
  {
   "cell_type": "markdown",
   "id": "236fc241",
   "metadata": {},
   "source": [
    "You can check that the new file has been saved using the `ls` command, which will list all the files in the directory \"files\""
   ]
  },
  {
   "cell_type": "code",
   "execution_count": null,
   "id": "2f6679d3",
   "metadata": {},
   "outputs": [],
   "source": [
    "ls new*"
   ]
  },
  {
   "cell_type": "markdown",
   "id": "40270154",
   "metadata": {},
   "source": [
    "__________________________________________"
   ]
  },
  {
   "cell_type": "markdown",
   "id": "4a185865",
   "metadata": {},
   "source": [
    "## 3.0 Using Pandas with Real World Data (Movie Catalogue Application)"
   ]
  },
  {
   "cell_type": "markdown",
   "id": "21128d2d",
   "metadata": {},
   "source": [
    "Let's move on to importing some real-world data and detailing a few of the most useful operations.\n",
    "\n",
    "\n",
    "### 3.1 Most important DataFrame operations\n",
    "\n",
    "DataFrames possess hundreds of methods and other operations that are crucial to any analysis. \n",
    "\n",
    "As a beginner, you should know the operations that perform simple transformations of your data and those that provide fundamental statistical analysis.\n",
    "\n",
    "Let's load in the IMDB movies dataset to begin:"
   ]
  },
  {
   "cell_type": "code",
   "execution_count": null,
   "id": "78b17e39",
   "metadata": {},
   "outputs": [],
   "source": [
    "movies_df = pd.read_csv(\"IMDB-Movie-Data.csv\", index_col=\"Title\")\n",
    "\n",
    "movies_df.head()"
   ]
  },
  {
   "cell_type": "markdown",
   "id": "1c416e10",
   "metadata": {},
   "source": [
    "Note a few things here: \n",
    "\n",
    "> We're loading this dataset from a CSV and designating the movie titles to be our index.\n",
    "\n",
    "> We use the `df.head()` command to load the first 5 rows of the dataset"
   ]
  },
  {
   "cell_type": "markdown",
   "id": "cb872599",
   "metadata": {},
   "source": [
    "`.head()` outputs the **first** five rows of your DataFrame by default, but we could also pass a number as well: `movies_df.head(10)` would output the top ten rows, for example. \n",
    "\n",
    "To see the **last** five rows use `.tail()`. `tail()` also accepts a number, and in this case we printing the bottom two rows.:"
   ]
  },
  {
   "cell_type": "code",
   "execution_count": null,
   "id": "42afe644",
   "metadata": {},
   "outputs": [],
   "source": [
    "movies_df.tail(2)"
   ]
  },
  {
   "cell_type": "markdown",
   "id": "7a7f255c",
   "metadata": {},
   "source": [
    "## Exercise\n",
    "\n",
    "**Try on your own**\n",
    "\n",
    "1. Locate the 100th ranked movie, what is the title?\n"
   ]
  },
  {
   "cell_type": "markdown",
   "id": "34b80234",
   "metadata": {},
   "source": [
    "### 3.2 Getting info about your data\n",
    "\n",
    "`.shape` is a simple tuple of format (rows, columns). \n",
    "\n",
    "So we have **1000 rows** and **11 columns** in our movies DataFrame.\n",
    "\n",
    "`.shape` is very useful when cleaning and transforming data. For example, you might filter some rows based on some criteria and then want to know quickly how many rows were removed."
   ]
  },
  {
   "cell_type": "code",
   "execution_count": null,
   "id": "43796e78",
   "metadata": {},
   "outputs": [],
   "source": [
    "movies_df.shape"
   ]
  },
  {
   "cell_type": "markdown",
   "id": "68bd8d0b",
   "metadata": {},
   "source": [
    "### What if there are duplicates in my dataframe?\n",
    "\n",
    "Sometimes, you are working with messy data, where there may be duplicates and you want to remove these rows in order to get more acurate statistics\n",
    "\n",
    "The movie dataset does not have any duplicates, you can figure this out with the following command:\n"
   ]
  },
  {
   "cell_type": "code",
   "execution_count": null,
   "id": "048b3d16",
   "metadata": {},
   "outputs": [],
   "source": [
    "temp_df = movies_df.drop_duplicates()\n",
    "temp_df.shape"
   ]
  },
  {
   "cell_type": "markdown",
   "id": "52e4eac1",
   "metadata": {},
   "source": [
    "Here, I made a new dataframe *temp_df* in which I set equal to the *movies_df* dataframe, but I used the command `drop_duplicates()` which tells pandas to look for any duplicate rows and remove them. \n",
    "\n",
    "You can see that there are no duplicate rows in the original dataframe, because when I type `temp_df.shape` it retains the same number of colums and rows as the original. "
   ]
  },
  {
   "cell_type": "markdown",
   "id": "3361df2d",
   "metadata": {},
   "source": [
    "Now let's create a scenario where we **do** have duplicates, by copying the original movie dataframe twice: "
   ]
  },
  {
   "cell_type": "code",
   "execution_count": null,
   "id": "58f139ff",
   "metadata": {},
   "outputs": [],
   "source": [
    "temp_df = pd.concat([movies_df, movies_df], ignore_index=True)\n",
    "\n",
    "temp_df.shape"
   ]
  },
  {
   "cell_type": "markdown",
   "id": "18bb423d",
   "metadata": {},
   "source": [
    "Note:\n",
    "\n",
    "> Using `concat()` will return a copy without affecting the original DataFrame \n",
    "\n",
    "> We don't change our original dataset *movies_df* because we are creating a new dataframe, *temp_df*\n",
    "\n",
    "> Notice call `.shape` quickly proves our DataFrame rows have doubled.\n",
    "\n",
    "Now we try dropping duplicates on your own:"
   ]
  },
  {
   "cell_type": "markdown",
   "id": "bdc20f0f",
   "metadata": {},
   "source": [
    "## Exercise\n",
    "\n",
    "**Try on your own**\n",
    "\n",
    "2. Remove the duplicates from the new *temp_df*\n",
    "3. Verify that you have removed the duplicates\n"
   ]
  },
  {
   "cell_type": "markdown",
   "id": "1f33081c",
   "metadata": {},
   "source": [
    "### 3.3 Working with Columns\n",
    "\n",
    "Many times datasets will have verbose column names with symbols, upper and lowercase words, spaces, and typos. \n",
    "\n",
    "To make selecting data by column name easier we can spend a little time cleaning up their names.\n",
    "\n",
    "Here's how to print the column names of our dataset:"
   ]
  },
  {
   "cell_type": "code",
   "execution_count": null,
   "id": "200c30dd",
   "metadata": {},
   "outputs": [],
   "source": [
    "movies_df.columns"
   ]
  },
  {
   "cell_type": "markdown",
   "id": "76355fc1",
   "metadata": {},
   "source": [
    "Let's try renaming some of the columns\n",
    "\n",
    "We can use the `.rename()` method to rename certain or all columns via a `dict`. \n",
    "\n",
    "We don't want parentheses, so let's rename those:"
   ]
  },
  {
   "cell_type": "code",
   "execution_count": null,
   "id": "728e27e1",
   "metadata": {},
   "outputs": [],
   "source": [
    "movies_df.rename(columns={\n",
    "        'Runtime (Minutes)': 'Runtime', \n",
    "        'Revenue (Millions)': 'Revenue_millions'\n",
    "    }, inplace=True)\n",
    "\n",
    "\n",
    "movies_df.columns"
   ]
  },
  {
   "cell_type": "markdown",
   "id": "9a3d563d",
   "metadata": {},
   "source": [
    "Excellent. But what if we want to lowercase all names? Instead of using `.rename()` we could also set a list of names to the columns like so:"
   ]
  },
  {
   "cell_type": "code",
   "execution_count": null,
   "id": "0120b2a5",
   "metadata": {},
   "outputs": [],
   "source": [
    "movies_df.columns = ['rank', 'genre', 'description', 'director', 'actors', 'year', 'runtime', \n",
    "                     'rating', 'votes', 'revenue_millions', 'metascore']\n",
    "\n",
    "\n",
    "movies_df.columns"
   ]
  },
  {
   "cell_type": "markdown",
   "id": "19523f5a",
   "metadata": {},
   "source": [
    "But that's too much work. Instead of just renaming each column manually we can do a list comprehension:"
   ]
  },
  {
   "cell_type": "code",
   "execution_count": null,
   "id": "afacb978",
   "metadata": {},
   "outputs": [],
   "source": [
    "movies_df.columns = [col.lower() for col in movies_df]\n",
    "\n",
    "movies_df.columns"
   ]
  },
  {
   "cell_type": "markdown",
   "id": "06e41b97",
   "metadata": {},
   "source": [
    "In the above example, we created our first code in pandas to transform our data, lets break it down:\n",
    "    \n",
    "> We used a list, which is given by the two brackets *[...]*\n",
    "\n",
    "> We used a *for* loop, that looped over all columns (called *col*) in the original DataFrame\n",
    "\n",
    "> For each *col* that we loop over, we changed it to lower case using `col.lower()`"
   ]
  },
  {
   "cell_type": "markdown",
   "id": "25464e3c",
   "metadata": {},
   "source": [
    "`list` (and `dict`) comprehensions come in handy a lot when working with pandas and data in general.\n",
    "\n",
    "It's a good idea to lowercase, remove special characters, and replace spaces with underscores if you'll be working with a dataset for some time."
   ]
  },
  {
   "cell_type": "markdown",
   "id": "32b4a012",
   "metadata": {},
   "source": [
    "## Exercise\n",
    "\n",
    "**Try on your own**\n",
    "\n",
    "4. Can you figure out how to change each column to upper case?\n",
    "\n",
    "NOTE: make sure to change it back to lowercase once you figured it out! \n",
    "\n"
   ]
  },
  {
   "cell_type": "markdown",
   "id": "a266a92a",
   "metadata": {},
   "source": [
    "### 3.4 Understanding your DataFrame variables"
   ]
  },
  {
   "cell_type": "code",
   "execution_count": null,
   "id": "9a5dc672",
   "metadata": {},
   "outputs": [],
   "source": [
    "movies_df['genre'].describe()"
   ]
  },
  {
   "cell_type": "markdown",
   "id": "3e50e898",
   "metadata": {},
   "source": [
    "This tells us that the genre column has 207 unique values, the top value is Action/Adventure/Sci-Fi, which shows up 50 times (freq).\n",
    "\n",
    "`.value_counts()` can tell us the frequency of all values in a column:"
   ]
  },
  {
   "cell_type": "code",
   "execution_count": null,
   "id": "ce1e9656",
   "metadata": {},
   "outputs": [],
   "source": [
    "movies_df['genre'].value_counts().head(10)"
   ]
  },
  {
   "cell_type": "markdown",
   "id": "7d8b40eb",
   "metadata": {},
   "source": [
    "## Exercise\n",
    "\n",
    "**Try on your own**\n",
    "\n",
    "5. What year produced the most movies?\n",
    "\n"
   ]
  },
  {
   "cell_type": "markdown",
   "id": "be27c097",
   "metadata": {},
   "source": [
    "### 3.5 Simple DataFrame Statistics & Plotting"
   ]
  },
  {
   "cell_type": "markdown",
   "id": "083f6177",
   "metadata": {},
   "source": [
    "#### Relationships between continuous variables"
   ]
  },
  {
   "cell_type": "markdown",
   "id": "e2dd2c08",
   "metadata": {},
   "source": [
    "By using the correlation method `.corr()` we can generate the relationship between each continuous variable. But first we have to only select the columns with numerical values - no words! \n",
    "\n",
    "We create a list called \"cols\" and give it the columns that have numbers in them:"
   ]
  },
  {
   "cell_type": "code",
   "execution_count": null,
   "id": "c0820a54",
   "metadata": {},
   "outputs": [],
   "source": [
    "cols = ['year','runtime','rating','votes','revenue_millions','metascore']\n",
    "\n",
    "movies_df[cols].corr()"
   ]
  },
  {
   "cell_type": "markdown",
   "id": "bc708c50",
   "metadata": {},
   "source": [
    "Correlation tables are a numerical representation of the bivariate relationships in the dataset. \n",
    "\n",
    "Positive numbers indicate a positive correlation — one goes up the other goes up — and negative numbers represent an inverse correlation — one goes up the other goes down. 1.0 indicates a perfect correlation. \n",
    "\n",
    "> So looking in the first row, first column we see `rank` has a perfect correlation with itself, which is obvious. \n",
    "\n",
    "> On the other hand, the correlation between `votes` and `revenue_millions` is 0.6. A little more interesting.\n"
   ]
  },
  {
   "cell_type": "markdown",
   "id": "3c6cb73a",
   "metadata": {},
   "source": [
    "-"
   ]
  },
  {
   "cell_type": "markdown",
   "id": "ef3b2307",
   "metadata": {},
   "source": [
    "Understanding your data comes in handy when thinking about the type of plot to use to represent your data visually. \n",
    "\n",
    "`.describe()` can be used to get the count of rows, unique count of categories, top category, and freq of top category:"
   ]
  },
  {
   "cell_type": "code",
   "execution_count": null,
   "id": "59c7bc08",
   "metadata": {},
   "outputs": [],
   "source": [
    "movies_df['rating'].describe()"
   ]
  },
  {
   "cell_type": "markdown",
   "id": "7f4cc11b",
   "metadata": {},
   "source": [
    "Let's try plotting our data to visually inspect the relationships:"
   ]
  },
  {
   "cell_type": "code",
   "execution_count": null,
   "id": "bc6ba789",
   "metadata": {},
   "outputs": [],
   "source": [
    "import matplotlib.pyplot as plt\n",
    "plt.rcParams.update({'font.size': 12, 'figure.figsize': (5, 3)}) # set font and plot size to be larger"
   ]
  },
  {
   "cell_type": "markdown",
   "id": "e22c6e2a",
   "metadata": {},
   "source": [
    "**Side note:**\n",
    "\n",
    "For *categorical variables* utilize Bar Charts* and Boxplots.  \n",
    "\n",
    "For *continuous variables* utilize Histograms, Scatterplots, Line graphs, and Boxplots.\n",
    "\n",
    "Let's plot the relationship between **ratings** and **revenue**. \n",
    "\n",
    "All we need to do is call `.plot()` on `movies_df` with some info about how to construct the plot:"
   ]
  },
  {
   "cell_type": "code",
   "execution_count": null,
   "id": "7e65e37d",
   "metadata": {},
   "outputs": [],
   "source": [
    "movies_df.plot(kind='scatter', x='rating', y='revenue_millions', title='Revenue (millions) vs Rating');"
   ]
  },
  {
   "cell_type": "markdown",
   "id": "980645b6",
   "metadata": {},
   "source": [
    "If we want to plot a simple Histogram based on a single column, we can call plot on a column:"
   ]
  },
  {
   "cell_type": "code",
   "execution_count": null,
   "id": "4e71c46d",
   "metadata": {},
   "outputs": [],
   "source": [
    "movies_df['rating'].plot(kind='hist', title='Rating');"
   ]
  },
  {
   "cell_type": "markdown",
   "id": "0698ee69",
   "metadata": {},
   "source": [
    "Using a Boxplot we can visualize this data:"
   ]
  },
  {
   "cell_type": "code",
   "execution_count": null,
   "id": "0946bb0b",
   "metadata": {},
   "outputs": [],
   "source": [
    "movies_df['rating'].plot(kind=\"box\");"
   ]
  },
  {
   "cell_type": "markdown",
   "id": "e6b43bb7",
   "metadata": {},
   "source": [
    "<figure>\n",
    "<img src=\"https://i1.wp.com/flowingdata.com/wp-content/uploads/2008/02/box-plot-explained.gif\" />\n",
    "    <figcaption>Source: *Flowing Data*</figcaption>\n",
    "</figure>\n"
   ]
  },
  {
   "cell_type": "markdown",
   "id": "027ec432",
   "metadata": {},
   "source": [
    "## Exercise\n",
    "\n",
    "**Try on your own**\n",
    "\n",
    "6. Plot a boxplot for revenues across all movies\n",
    "\n"
   ]
  },
  {
   "cell_type": "markdown",
   "id": "c5e666ec",
   "metadata": {},
   "source": [
    "### 3.6 Manipulating DataFrames"
   ]
  },
  {
   "cell_type": "markdown",
   "id": "15978bc3",
   "metadata": {},
   "source": [
    "#### DataFrame slicing, selecting, extracting\n",
    "\n",
    "Up until now we've focused on some basic summaries of our data. We've learned about simple column extraction using single brackets, and we done simple statistics and plotting. \n",
    "\n",
    "Below are the other methods of slicing, selecting, and extracting you'll need to use constantly. \n",
    "\n",
    "Let's look at working with columns first."
   ]
  },
  {
   "cell_type": "markdown",
   "id": "ca5c39c6",
   "metadata": {},
   "source": [
    "##### Extracting data by column\n",
    "\n",
    "Extract a column using square brackets like this:"
   ]
  },
  {
   "cell_type": "code",
   "execution_count": null,
   "id": "83303396",
   "metadata": {},
   "outputs": [],
   "source": [
    "genre_col = movies_df['genre']\n",
    "\n",
    "type(genre_col)"
   ]
  },
  {
   "cell_type": "markdown",
   "id": "1f7517a3",
   "metadata": {},
   "source": [
    "Note: \n",
    "\n",
    "> one column of a *DataFrame* is a *Series*"
   ]
  },
  {
   "cell_type": "markdown",
   "id": "1aa4840b",
   "metadata": {},
   "source": [
    "If you don't want a *Series*, you can extract a column as a *DataFrame* by passing a list of column names. \n",
    "\n",
    "In our case that's just a single column:"
   ]
  },
  {
   "cell_type": "code",
   "execution_count": null,
   "id": "acc97d0e",
   "metadata": {},
   "outputs": [],
   "source": [
    "genre_col = movies_df[['genre']]\n",
    "\n",
    "type(genre_col)"
   ]
  },
  {
   "cell_type": "markdown",
   "id": "7cabaef6",
   "metadata": {},
   "source": [
    "You can extract two columns from the original dataframe like this: \n",
    "    "
   ]
  },
  {
   "cell_type": "code",
   "execution_count": null,
   "id": "314340f4",
   "metadata": {},
   "outputs": [],
   "source": [
    "subset = movies_df[['genre', 'rating']]\n",
    "\n",
    "subset.head()"
   ]
  },
  {
   "cell_type": "markdown",
   "id": "1264cc28",
   "metadata": {},
   "source": [
    "##### Extracting data by rows"
   ]
  },
  {
   "cell_type": "markdown",
   "id": "cafa08aa",
   "metadata": {},
   "source": [
    "For rows, we have two options: \n",
    "\n",
    "- `.loc` - **loc**ates by name\n",
    "- `.iloc`- **loc**ates by numerical **i**ndex\n",
    "\n",
    "Remember that we are still indexed by movie Title, so to use `.loc` we give it the Title of a movie:"
   ]
  },
  {
   "cell_type": "code",
   "execution_count": null,
   "id": "3d3e3ca1",
   "metadata": {},
   "outputs": [],
   "source": [
    "prom = movies_df.loc[\"Prometheus\"]\n",
    "\n",
    "prom"
   ]
  },
  {
   "cell_type": "markdown",
   "id": "5555cf3b",
   "metadata": {},
   "source": [
    "On the other hand, with `iloc` we give it the numerical index of Prometheus:"
   ]
  },
  {
   "cell_type": "code",
   "execution_count": null,
   "id": "471d31c3",
   "metadata": {},
   "outputs": [],
   "source": [
    "prom = movies_df.iloc[1]"
   ]
  },
  {
   "cell_type": "markdown",
   "id": "2e118e95",
   "metadata": {},
   "source": [
    "`loc` and `iloc` can be thought of as similar to Python `list` slicing. To show this even further, let's select multiple rows.\n",
    "\n",
    "How would you do it with a list? \n",
    "\n",
    "In Python, just slice with brackets like `example_list[1:4]`. It's works the same way in pandas:"
   ]
  },
  {
   "cell_type": "code",
   "execution_count": null,
   "id": "6cded161",
   "metadata": {},
   "outputs": [],
   "source": [
    "movie_subset = movies_df.loc['Prometheus':'Sing']\n",
    "\n",
    "movie_subset = movies_df.iloc[1:4]\n",
    "\n",
    "movie_subset"
   ]
  },
  {
   "cell_type": "markdown",
   "id": "2e679507",
   "metadata": {},
   "source": [
    "## Exercise\n",
    "\n",
    "**Try on your own**\n",
    "\n",
    "7. Select a subset of movies where the numerical indices are between 20-25, what is the title of the last movie in this subset?\n"
   ]
  },
  {
   "cell_type": "markdown",
   "id": "be7ea707",
   "metadata": {},
   "source": [
    "#### Conditional selections\n",
    "\n",
    "What if we want to make a conditional selection? \n",
    "\n",
    "For example, what if we want to filter our movies DataFrame to show only films directed by Ridley Scott or films with a rating greater than or equal to 8.0?\n",
    "\n",
    "To do that, we take a column from the DataFrame and apply a Boolean condition to it. Here's an example of a Boolean condition:"
   ]
  },
  {
   "cell_type": "code",
   "execution_count": null,
   "id": "b2eb93f0",
   "metadata": {},
   "outputs": [],
   "source": [
    "condition = movies_df[movies_df['director'] == \"Ridley Scott\"]\n",
    "\n",
    "condition.head()"
   ]
  },
  {
   "cell_type": "markdown",
   "id": "ab8cd7cf",
   "metadata": {},
   "source": [
    "Here we created a new DataFrame called *condition* and out of all 1,000 movies, these 5 have Ridley Scott as the director"
   ]
  },
  {
   "cell_type": "markdown",
   "id": "409a4569",
   "metadata": {},
   "source": [
    "You can get used to looking at these conditionals by reading it like: \n",
    "\n",
    "> Select movies_df where movies_df director equals Ridley Scott\n"
   ]
  },
  {
   "cell_type": "markdown",
   "id": "7dc7b553",
   "metadata": {},
   "source": [
    "Let's look at conditional selections using numerical values by filtering the DataFrame by ratings:"
   ]
  },
  {
   "cell_type": "code",
   "execution_count": null,
   "id": "e37d0db8",
   "metadata": {},
   "outputs": [],
   "source": [
    "movies_df[movies_df['rating'] >= 8.6].head(3)"
   ]
  },
  {
   "cell_type": "markdown",
   "id": "0e5c5d17",
   "metadata": {},
   "source": [
    "Let's filter the the DataFrame to show only movies by Christopher Nolan OR Ridley Scott:"
   ]
  },
  {
   "cell_type": "code",
   "execution_count": null,
   "id": "d1d4492d",
   "metadata": {},
   "outputs": [],
   "source": [
    "movies_df[movies_df['director'].isin(['Christopher Nolan', 'Ridley Scott'])].head()"
   ]
  },
  {
   "cell_type": "markdown",
   "id": "22c22bb7",
   "metadata": {},
   "source": [
    "We create a `list` of directors that we want to include in our subset, and then we only select the rows where that condition applies"
   ]
  },
  {
   "cell_type": "markdown",
   "id": "f8343457",
   "metadata": {},
   "source": [
    "Let's say we want all movies that were released between 2005 and 2010, have a rating above 8.0, but made below the 25th percentile in revenue.\n",
    "\n",
    "Here's how we could do all of that:"
   ]
  },
  {
   "cell_type": "code",
   "execution_count": null,
   "id": "76bfc693",
   "metadata": {},
   "outputs": [],
   "source": [
    "movies_df[\n",
    "    ((movies_df['year'] >= 2005) & (movies_df['year'] <= 2010))\n",
    "    & (movies_df['rating'] > 8.0)\n",
    "    & (movies_df['revenue_millions'] < movies_df['revenue_millions'].quantile(0.25))\n",
    "]"
   ]
  },
  {
   "cell_type": "markdown",
   "id": "4c467734",
   "metadata": {},
   "source": [
    "## Exercise\n",
    "\n",
    "**Try on your own**\n",
    "\n",
    "8. Find the subset of movies that were made in 2006\n",
    "9. Find the subset of movies that have either Comedy or Drama as a genre\n",
    "10. Find the subset of movies that have a rating over 8.0 and were made after 2010\n"
   ]
  },
  {
   "cell_type": "markdown",
   "id": "cada9c7e",
   "metadata": {},
   "source": [
    "#### Applying functions\n",
    "\n",
    "We can use a function to convert movies with an 8.0 or greater to a string value of \"good\" and the rest to \"bad\" and use this transformed values to create a new column.\n",
    "\n",
    "First we would create a function that, when given a rating, determines if it's good or bad:"
   ]
  },
  {
   "cell_type": "code",
   "execution_count": null,
   "id": "24c54b63",
   "metadata": {},
   "outputs": [],
   "source": [
    "def rating_function(x):\n",
    "    if x >= 8.0:\n",
    "        return \"good\"\n",
    "    else:\n",
    "        return \"bad\""
   ]
  },
  {
   "cell_type": "markdown",
   "id": "432a85fa",
   "metadata": {},
   "source": [
    "Now we want to send the entire rating column through this function, which is what `apply()` does:"
   ]
  },
  {
   "cell_type": "code",
   "execution_count": null,
   "id": "b3489c1c",
   "metadata": {},
   "outputs": [],
   "source": [
    "movies_df[\"rating_category\"] = movies_df[\"rating\"].apply(rating_function)\n",
    "\n",
    "movies_df.head(2)"
   ]
  },
  {
   "cell_type": "markdown",
   "id": "0b61813f",
   "metadata": {},
   "source": [
    "The `.apply()` method passes every value in the `rating` column through the `rating_function` and then returns a new Series. This Series is then assigned to a new column called `rating_category`."
   ]
  },
  {
   "cell_type": "markdown",
   "id": "5fe2ae60",
   "metadata": {},
   "source": [
    "By combining categorical and continuous data, we can create a Boxplot of revenue that is grouped by the Rating Category we created above:"
   ]
  },
  {
   "cell_type": "code",
   "execution_count": null,
   "id": "1e4bf57f",
   "metadata": {},
   "outputs": [],
   "source": [
    "plt.rcParams.update({'font.size': 12, 'figure.figsize': (8, 5)}) # set font and plot size to be larger\n",
    "movies_df.boxplot(column='revenue_millions', by='rating_category');"
   ]
  },
  {
   "cell_type": "markdown",
   "id": "de6a6987",
   "metadata": {},
   "source": [
    "## Additional Exercises\n",
    "\n",
    "**Try on your own**\n",
    "\n",
    "11. Make a function that categorizes movies based on \"old\" and \"new\" (anything before 2008 is considered old)\n",
    "12. Plot this year_category using a box plot grouped by and describe what you see\n"
   ]
  },
  {
   "cell_type": "markdown",
   "id": "71fca8d7",
   "metadata": {},
   "source": [
    "________________________________________"
   ]
  },
  {
   "cell_type": "markdown",
   "id": "80dfb962",
   "metadata": {},
   "source": [
    "# You just finished your first CHEM430 data exploration exercise! \n",
    "\n",
    "Give yourself some well deserved praise! "
   ]
  },
  {
   "cell_type": "markdown",
   "id": "719c689d",
   "metadata": {},
   "source": [
    "________________________________________"
   ]
  },
  {
   "cell_type": "markdown",
   "id": "0de150d9",
   "metadata": {},
   "source": [
    "## On your own - OPTIONAL \n",
    "\n",
    "If you enjoyed this workflow, you can install this software locally on your personal labtop. \n",
    "There are great instructions for installing on most MAC OS. PCs are definitely more tricky.\n",
    "\n",
    "As a resource, here are the following most up to date installation instructions for MAC OS. \n",
    "\n",
    "As an instructor, I cannot offer guidence past this point. Thank you for understanding."
   ]
  },
  {
   "cell_type": "markdown",
   "id": "968f10a8",
   "metadata": {},
   "source": [
    "### Install and import\n",
    "Pandas is an easy package to install. It can be installed with either PC or Mac environments. \n",
    "Here, we will walk you through installing in MacOS environment using Anaconda. \n",
    "\n",
    ">Instructions are valid as of June 2022, for MacOS version Big Sur."
   ]
  },
  {
   "cell_type": "markdown",
   "id": "52a1b2bc",
   "metadata": {},
   "source": [
    "The *pandas* package is the most important tool at the disposal of Data Scientists and Analysts working in Python today. The powerful machine learning and glamorous visualization tools may get all the attention, but pandas is the backbone of most data projects. \n",
    "\n",
    ">\\[*pandas*\\] is derived from the term \"**pan**el **da**ta\", an econometrics term for data sets that include observations over multiple time periods for the same individuals. — [Wikipedia](https://en.wikipedia.org/wiki/Pandas_%28software%29)\n",
    "\n",
    "Think of pandas as the python version of Excel! \n",
    "\n",
    "Parts of this tutorial were adapted from a similar tutorial from the git repo: LearnDataSci"
   ]
  },
  {
   "cell_type": "markdown",
   "id": "480fe34c",
   "metadata": {},
   "source": [
    "Use magnifier to find \"terminal\"\n",
    "\n",
    "Type:\n",
    "\n",
    "`cd ~/Downloads`\n",
    "\n",
    "Then:\n",
    "\n",
    "`curl -O https://repo.anaconda.com/archive/Anaconda3-2021.05-MacOSX-x86_64.sh`\n",
    "\n",
    "Then: \n",
    "\n",
    "`bash ./Anaconda3-2021.05-MacOSX-x86_64.sh`\n",
    "\n",
    "Then:\n",
    "\n",
    "`yes` to accept the license terms and agreement\n",
    "\n",
    "Then: \n",
    "\n",
    "`yes` for the installer to initialize Anaconda3"
   ]
  },
  {
   "cell_type": "markdown",
   "id": "0ad459ca",
   "metadata": {},
   "source": [
    "To verify the installation, type:\n",
    "\n",
    "`python --version`\n",
    "\n",
    "To make sure you are using the latest version of conda, type:\n",
    "\n",
    "`conda update --all --yes`"
   ]
  },
  {
   "cell_type": "markdown",
   "id": "3b71c347",
   "metadata": {},
   "source": [
    "To run jupyter notebook, type:\n",
    "\n",
    "`jupyter notebook`"
   ]
  },
  {
   "cell_type": "markdown",
   "id": "ced2aff0",
   "metadata": {},
   "source": [
    "It is common to import pandas (i.e. use it inside the jupyter notebook) as \"pd\" for brevity.\n",
    "\n",
    "This can be done by running:"
   ]
  },
  {
   "cell_type": "raw",
   "id": "e0e94f20",
   "metadata": {},
   "source": [
    "import pandas as pd"
   ]
  },
  {
   "cell_type": "markdown",
   "id": "0333e343",
   "metadata": {},
   "source": [
    "___________________"
   ]
  },
  {
   "cell_type": "markdown",
   "id": "0e1cf367",
   "metadata": {},
   "source": [
    "This workflow was adapted from https://github.com/LearnDataSci/"
   ]
  },
  {
   "cell_type": "code",
   "execution_count": null,
   "id": "7dd699a4",
   "metadata": {},
   "outputs": [],
   "source": []
  }
 ],
 "metadata": {
  "kernelspec": {
   "display_name": "Python 3",
   "language": "python",
   "name": "python3"
  },
  "language_info": {
   "codemirror_mode": {
    "name": "ipython",
    "version": 3
   },
   "file_extension": ".py",
   "mimetype": "text/x-python",
   "name": "python",
   "nbconvert_exporter": "python",
   "pygments_lexer": "ipython3",
   "version": "3.8.8"
  }
 },
 "nbformat": 4,
 "nbformat_minor": 5
}
