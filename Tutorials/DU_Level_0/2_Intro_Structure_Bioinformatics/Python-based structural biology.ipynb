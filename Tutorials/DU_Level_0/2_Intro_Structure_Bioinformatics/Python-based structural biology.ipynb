{
 "cells": [
  {
   "cell_type": "markdown",
   "id": "51890bbf",
   "metadata": {},
   "source": [
    "# Python & PDB Tutorial: A Complete Introduction for Beginners\n",
    "\n",
    "The Protein Data Bank (PDB) stores information about the 3D shapes of proteins, nucleic acids, and complex assemblies. This data bank can be found online at https://www.rcsb.org/. In this tutorial, we will go through how to visualize proteins from PDB, and how to locate mutations in proteins in 3D. "
   ]
  },
  {
   "cell_type": "markdown",
   "id": "61a34c5d",
   "metadata": {},
   "source": [
    "## 1.0 Visualizing Proteins using Py3Dmol\n",
    "\n",
    "Py3Dmol downloads PDB structures using the compressed binary MMTF file format from https://mmtf.rcsb.org. For more information, read the documentation at https://pypi.org/project/py3Dmol/."
   ]
  },
  {
   "cell_type": "code",
   "execution_count": 1,
   "id": "e78af59a",
   "metadata": {},
   "outputs": [],
   "source": [
    "import py3Dmol"
   ]
  },
  {
   "cell_type": "markdown",
   "id": "fec8f21e",
   "metadata": {},
   "source": [
    "Here, we are visualizing the human protein hemoglobin from the PDB"
   ]
  },
  {
   "cell_type": "code",
   "execution_count": 2,
   "id": "d3ed612f",
   "metadata": {},
   "outputs": [
    {
     "data": {
      "application/3dmoljs_load.v0": "<div id=\"3dmolviewer_16634138916615\"  style=\"position: relative; width: 640px; height: 480px\">\n        <p id=\"3dmolwarning_16634138916615\" style=\"background-color:#ffcccc;color:black\">You appear to be running in JupyterLab (or JavaScript failed to load for some other reason).  You need to install the 3dmol extension: <br>\n        <tt>jupyter labextension install jupyterlab_3dmol</tt></p>\n        </div>\n<script>\n\nvar loadScriptAsync = function(uri){\n  return new Promise((resolve, reject) => {\n    var tag = document.createElement('script');\n    tag.src = uri;\n    tag.async = true;\n    tag.onload = () => {\n      resolve();\n    };\n  var firstScriptTag = document.getElementsByTagName('script')[0];\n  firstScriptTag.parentNode.insertBefore(tag, firstScriptTag);\n});\n};\n\nif(typeof $3Dmolpromise === 'undefined') {\n$3Dmolpromise = null;\n  $3Dmolpromise = loadScriptAsync('https://3dmol.org/build/3Dmol.js');\n}\n\nvar viewer_16634138916615 = null;\nvar warn = document.getElementById(\"3dmolwarning_16634138916615\");\nif(warn) {\n    warn.parentNode.removeChild(warn);\n}\n$3Dmolpromise.then(function() {\nviewer_16634138916615 = $3Dmol.createViewer($(\"#3dmolviewer_16634138916615\"),{backgroundColor:\"white\"});\n$3Dmol.download(\"pdb:5WOG\", viewer_16634138916615, {}, function() {\nviewer_16634138916615.zoomTo();\n\tviewer_16634138916615.setStyle({\"cartoon\": {\"color\": \"spectrum\"}});\n\tviewer_16634138916615.setStyle({\"hetflag\": true},{\"stick\": {\"radius\": 0.3, \"singleBond\": false}});\n\tviewer_16634138916615.zoomTo();\nviewer_16634138916615.render();\n})\n});\n</script>",
      "text/html": [
       "<div id=\"3dmolviewer_16634138916615\"  style=\"position: relative; width: 640px; height: 480px\">\n",
       "        <p id=\"3dmolwarning_16634138916615\" style=\"background-color:#ffcccc;color:black\">You appear to be running in JupyterLab (or JavaScript failed to load for some other reason).  You need to install the 3dmol extension: <br>\n",
       "        <tt>jupyter labextension install jupyterlab_3dmol</tt></p>\n",
       "        </div>\n",
       "<script>\n",
       "\n",
       "var loadScriptAsync = function(uri){\n",
       "  return new Promise((resolve, reject) => {\n",
       "    var tag = document.createElement('script');\n",
       "    tag.src = uri;\n",
       "    tag.async = true;\n",
       "    tag.onload = () => {\n",
       "      resolve();\n",
       "    };\n",
       "  var firstScriptTag = document.getElementsByTagName('script')[0];\n",
       "  firstScriptTag.parentNode.insertBefore(tag, firstScriptTag);\n",
       "});\n",
       "};\n",
       "\n",
       "if(typeof $3Dmolpromise === 'undefined') {\n",
       "$3Dmolpromise = null;\n",
       "  $3Dmolpromise = loadScriptAsync('https://3dmol.org/build/3Dmol.js');\n",
       "}\n",
       "\n",
       "var viewer_16634138916615 = null;\n",
       "var warn = document.getElementById(\"3dmolwarning_16634138916615\");\n",
       "if(warn) {\n",
       "    warn.parentNode.removeChild(warn);\n",
       "}\n",
       "$3Dmolpromise.then(function() {\n",
       "viewer_16634138916615 = $3Dmol.createViewer($(\"#3dmolviewer_16634138916615\"),{backgroundColor:\"white\"});\n",
       "$3Dmol.download(\"pdb:5WOG\", viewer_16634138916615, {}, function() {\n",
       "viewer_16634138916615.zoomTo();\n",
       "\tviewer_16634138916615.setStyle({\"cartoon\": {\"color\": \"spectrum\"}});\n",
       "\tviewer_16634138916615.setStyle({\"hetflag\": true},{\"stick\": {\"radius\": 0.3, \"singleBond\": false}});\n",
       "\tviewer_16634138916615.zoomTo();\n",
       "viewer_16634138916615.render();\n",
       "})\n",
       "});\n",
       "</script>"
      ]
     },
     "metadata": {},
     "output_type": "display_data"
    }
   ],
   "source": [
    "hemoglobin = py3Dmol.view(query='pdb:5WOG') # 5WOG is the PDB ID\n",
    "hemoglobin.setStyle({'cartoon': {'color': 'spectrum'}}) # here, we are setting the color and animation style\n",
    "hemoglobin.setStyle({'hetflag': True}, {'stick':{'radius': 0.3, 'singleBond': False}}) # here, we are setting the display style\n",
    "hemoglobin.zoomTo() # this command makes sure the output zooms in on the protein\n",
    "hemoglobin.show() # this command shows us the protein"
   ]
  },
  {
   "cell_type": "markdown",
   "id": "a240c5d1",
   "metadata": {},
   "source": [
    "This protein looks a little messy! To make it easier, we can visualize the different subunits of hemoglobin in different colors."
   ]
  },
  {
   "cell_type": "markdown",
   "id": "dd963f67",
   "metadata": {},
   "source": [
    "**We can use different commands to help visualize different structural motifs**\n",
    "\n",
    "> setStyle command tells which protein chains to highlight and what colors and shapes\n",
    "\n",
    "> addLabel command adds labels to the visualization below\n",
    "\n",
    "Here, we are labeling chains A and B (which are the alpha subunits of hemoglobin), using a cartoon representation, and coloring it yellow. We next label chains C and D (which are the beta subunits of hemoglobin), using a cartoon representation, and coloring it BLUE. \n",
    "\n",
    "\n",
    "Here's the command: "
   ]
  },
  {
   "cell_type": "code",
   "execution_count": 3,
   "id": "265142f1",
   "metadata": {},
   "outputs": [
    {
     "data": {
      "application/3dmoljs_load.v0": "<div id=\"3dmolviewer_16634139948928041\"  style=\"position: relative; width: 640px; height: 480px\">\n        <p id=\"3dmolwarning_16634139948928041\" style=\"background-color:#ffcccc;color:black\">You appear to be running in JupyterLab (or JavaScript failed to load for some other reason).  You need to install the 3dmol extension: <br>\n        <tt>jupyter labextension install jupyterlab_3dmol</tt></p>\n        </div>\n<script>\n\nvar loadScriptAsync = function(uri){\n  return new Promise((resolve, reject) => {\n    var tag = document.createElement('script');\n    tag.src = uri;\n    tag.async = true;\n    tag.onload = () => {\n      resolve();\n    };\n  var firstScriptTag = document.getElementsByTagName('script')[0];\n  firstScriptTag.parentNode.insertBefore(tag, firstScriptTag);\n});\n};\n\nif(typeof $3Dmolpromise === 'undefined') {\n$3Dmolpromise = null;\n  $3Dmolpromise = loadScriptAsync('https://3dmol.org/build/3Dmol.js');\n}\n\nvar viewer_16634139948928041 = null;\nvar warn = document.getElementById(\"3dmolwarning_16634139948928041\");\nif(warn) {\n    warn.parentNode.removeChild(warn);\n}\n$3Dmolpromise.then(function() {\nviewer_16634139948928041 = $3Dmol.createViewer($(\"#3dmolviewer_16634139948928041\"),{backgroundColor:\"white\"});\n$3Dmol.download(\"pdb:5WOG\", viewer_16634139948928041, {}, function() {\nviewer_16634139948928041.zoomTo();\n\tviewer_16634139948928041.setStyle({\"cartoon\": {\"color\": \"spectrum\"}});\n\tviewer_16634139948928041.setStyle({\"hetflag\": true},{\"stick\": {\"radius\": 0.3, \"singleBond\": false}});\n\tviewer_16634139948928041.zoomTo();\n\tviewer_16634139948928041.setStyle({\"chain\": [\"A\", \"B\"]},{\"cartoon\": {\"color\": \"yellow\"}});\n\tviewer_16634139948928041.addLabel(\"alpha subunits\",{\"fontColor\": \"yellow\", \"backgroundColor\": \"lightgray\"},{\"chain\": [\"A\", \"B\"]});\n\tviewer_16634139948928041.setStyle({\"chain\": [\"C\", \"D\"]},{\"cartoon\": {\"color\": \"blue\"}});\n\tviewer_16634139948928041.addLabel(\"beta subunits\",{\"fontColor\": \"blue\", \"backgroundColor\": \"lightgray\"},{\"chain\": [\"C\", \"D\"]});\nviewer_16634139948928041.render();\n})\n});\n</script>",
      "text/html": [
       "<div id=\"3dmolviewer_16634139948928041\"  style=\"position: relative; width: 640px; height: 480px\">\n",
       "        <p id=\"3dmolwarning_16634139948928041\" style=\"background-color:#ffcccc;color:black\">You appear to be running in JupyterLab (or JavaScript failed to load for some other reason).  You need to install the 3dmol extension: <br>\n",
       "        <tt>jupyter labextension install jupyterlab_3dmol</tt></p>\n",
       "        </div>\n",
       "<script>\n",
       "\n",
       "var loadScriptAsync = function(uri){\n",
       "  return new Promise((resolve, reject) => {\n",
       "    var tag = document.createElement('script');\n",
       "    tag.src = uri;\n",
       "    tag.async = true;\n",
       "    tag.onload = () => {\n",
       "      resolve();\n",
       "    };\n",
       "  var firstScriptTag = document.getElementsByTagName('script')[0];\n",
       "  firstScriptTag.parentNode.insertBefore(tag, firstScriptTag);\n",
       "});\n",
       "};\n",
       "\n",
       "if(typeof $3Dmolpromise === 'undefined') {\n",
       "$3Dmolpromise = null;\n",
       "  $3Dmolpromise = loadScriptAsync('https://3dmol.org/build/3Dmol.js');\n",
       "}\n",
       "\n",
       "var viewer_16634139948928041 = null;\n",
       "var warn = document.getElementById(\"3dmolwarning_16634139948928041\");\n",
       "if(warn) {\n",
       "    warn.parentNode.removeChild(warn);\n",
       "}\n",
       "$3Dmolpromise.then(function() {\n",
       "viewer_16634139948928041 = $3Dmol.createViewer($(\"#3dmolviewer_16634139948928041\"),{backgroundColor:\"white\"});\n",
       "$3Dmol.download(\"pdb:5WOG\", viewer_16634139948928041, {}, function() {\n",
       "viewer_16634139948928041.zoomTo();\n",
       "\tviewer_16634139948928041.setStyle({\"cartoon\": {\"color\": \"spectrum\"}});\n",
       "\tviewer_16634139948928041.setStyle({\"hetflag\": true},{\"stick\": {\"radius\": 0.3, \"singleBond\": false}});\n",
       "\tviewer_16634139948928041.zoomTo();\n",
       "\tviewer_16634139948928041.setStyle({\"chain\": [\"A\", \"B\"]},{\"cartoon\": {\"color\": \"yellow\"}});\n",
       "\tviewer_16634139948928041.addLabel(\"alpha subunits\",{\"fontColor\": \"yellow\", \"backgroundColor\": \"lightgray\"},{\"chain\": [\"A\", \"B\"]});\n",
       "\tviewer_16634139948928041.setStyle({\"chain\": [\"C\", \"D\"]},{\"cartoon\": {\"color\": \"blue\"}});\n",
       "\tviewer_16634139948928041.addLabel(\"beta subunits\",{\"fontColor\": \"blue\", \"backgroundColor\": \"lightgray\"},{\"chain\": [\"C\", \"D\"]});\n",
       "viewer_16634139948928041.render();\n",
       "})\n",
       "});\n",
       "</script>"
      ]
     },
     "metadata": {},
     "output_type": "display_data"
    }
   ],
   "source": [
    "hemoglobin.setStyle({'chain':['A','B']},{'cartoon': {'color': 'yellow'}}) # alpha subunits of hemoglobin\n",
    "hemoglobin.addLabel('alpha subunits', {'fontColor':'yellow', 'backgroundColor':'lightgray'}, {'chain': ['A','B']}) # adding a label                                              \n",
    "hemoglobin.setStyle({'chain':['C','D']},{'cartoon': {'color': 'blue'}}) # beta subunits of hemoglobin\n",
    "hemoglobin.addLabel('beta subunits', {'fontColor':'blue', 'backgroundColor':'lightgray'}, {'chain': ['C','D']}) #adding a label\n",
    "\n",
    "hemoglobin.show()"
   ]
  },
  {
   "cell_type": "markdown",
   "id": "07e915a9",
   "metadata": {},
   "source": [
    "## 2.0 Visualizing Residues and Ligands\n",
    "\n",
    "We can also visualize the different residues and ligands interacting with the protein. Here, we will look at the waters interacting with the protein."
   ]
  },
  {
   "cell_type": "markdown",
   "id": "d9571527",
   "metadata": {},
   "source": [
    "**We can use different commands to help visualize different ligands or non-protein entities, like water**\n",
    "\n",
    "> setStyle command selects the atoms in the crystal structure that are called \"HOH\" that are interacting distance to the protein\n",
    "\n",
    "The water molecules will appear as red circles (the heavy atoms, or oxygen atoms).\n",
    "\n",
    "Here's the command: "
   ]
  },
  {
   "cell_type": "code",
   "execution_count": 11,
   "id": "c8bf38a3",
   "metadata": {},
   "outputs": [
    {
     "data": {
      "application/3dmoljs_load.v0": "<div id=\"3dmolviewer_1663415023877027\"  style=\"position: relative; width: 640px; height: 480px\">\n        <p id=\"3dmolwarning_1663415023877027\" style=\"background-color:#ffcccc;color:black\">You appear to be running in JupyterLab (or JavaScript failed to load for some other reason).  You need to install the 3dmol extension: <br>\n        <tt>jupyter labextension install jupyterlab_3dmol</tt></p>\n        </div>\n<script>\n\nvar loadScriptAsync = function(uri){\n  return new Promise((resolve, reject) => {\n    var tag = document.createElement('script');\n    tag.src = uri;\n    tag.async = true;\n    tag.onload = () => {\n      resolve();\n    };\n  var firstScriptTag = document.getElementsByTagName('script')[0];\n  firstScriptTag.parentNode.insertBefore(tag, firstScriptTag);\n});\n};\n\nif(typeof $3Dmolpromise === 'undefined') {\n$3Dmolpromise = null;\n  $3Dmolpromise = loadScriptAsync('https://3dmol.org/build/3Dmol.js');\n}\n\nvar viewer_1663415023877027 = null;\nvar warn = document.getElementById(\"3dmolwarning_1663415023877027\");\nif(warn) {\n    warn.parentNode.removeChild(warn);\n}\n$3Dmolpromise.then(function() {\nviewer_1663415023877027 = $3Dmol.createViewer($(\"#3dmolviewer_1663415023877027\"),{backgroundColor:\"white\"});\n$3Dmol.download(\"pdb:5WOG\", viewer_1663415023877027, {}, function() {\nviewer_1663415023877027.zoomTo();\n\tviewer_1663415023877027.setStyle({\"cartoon\": {\"color\": \"spectrum\"}});\n\tviewer_1663415023877027.setStyle({\"hetflag\": true},{\"stick\": {\"radius\": 0.3, \"singleBond\": false}});\n\tviewer_1663415023877027.zoomTo();\n\tviewer_1663415023877027.setStyle({\"chain\": [\"A\", \"B\"]},{\"cartoon\": {\"color\": \"yellow\"}});\n\tviewer_1663415023877027.addLabel(\"alpha subunits\",{\"fontColor\": \"yellow\", \"backgroundColor\": \"lightgray\"},{\"chain\": [\"A\", \"B\"]});\n\tviewer_1663415023877027.setStyle({\"chain\": [\"C\", \"D\"]},{\"cartoon\": {\"color\": \"blue\"}});\n\tviewer_1663415023877027.addLabel(\"beta subunits\",{\"fontColor\": \"blue\", \"backgroundColor\": \"lightgray\"},{\"chain\": [\"C\", \"D\"]});\n\tviewer_1663415023877027.setStyle({\"resn\": \"HOH\"},{\"sphere\": {\"radius\": 0.5}});\n\tviewer_1663415023877027.setStyle({\"resn\": \"HOH\"},{});\n\tviewer_1663415023877027.setStyle({\"resn\": \"HEM\"},{\"sphere\": {\"radius\": 0.5}});\n\tviewer_1663415023877027.setStyle({\"resn\": \"HEM\"},{\"sphere\": {\"radius\": 2.0}});\n\tviewer_1663415023877027.setStyle({\"resn\": \"HOH\"},{\"sphere\": {\"radius\": 1.5}});\n\tviewer_1663415023877027.setStyle({\"resn\": \"HOH\"},{\"sphere\": {\"radius\": 0.5}});\n\tviewer_1663415023877027.setStyle({\"resn\": \"HEM\"},{\"sphere\": {\"radius\": 0.5}});\n\tviewer_1663415023877027.setStyle({\"resn\": \"HEM\"},{\"sphere\": {\"radius\": 2.5}});\nviewer_1663415023877027.render();\n})\n});\n</script>",
      "text/html": [
       "<div id=\"3dmolviewer_1663415023877027\"  style=\"position: relative; width: 640px; height: 480px\">\n",
       "        <p id=\"3dmolwarning_1663415023877027\" style=\"background-color:#ffcccc;color:black\">You appear to be running in JupyterLab (or JavaScript failed to load for some other reason).  You need to install the 3dmol extension: <br>\n",
       "        <tt>jupyter labextension install jupyterlab_3dmol</tt></p>\n",
       "        </div>\n",
       "<script>\n",
       "\n",
       "var loadScriptAsync = function(uri){\n",
       "  return new Promise((resolve, reject) => {\n",
       "    var tag = document.createElement('script');\n",
       "    tag.src = uri;\n",
       "    tag.async = true;\n",
       "    tag.onload = () => {\n",
       "      resolve();\n",
       "    };\n",
       "  var firstScriptTag = document.getElementsByTagName('script')[0];\n",
       "  firstScriptTag.parentNode.insertBefore(tag, firstScriptTag);\n",
       "});\n",
       "};\n",
       "\n",
       "if(typeof $3Dmolpromise === 'undefined') {\n",
       "$3Dmolpromise = null;\n",
       "  $3Dmolpromise = loadScriptAsync('https://3dmol.org/build/3Dmol.js');\n",
       "}\n",
       "\n",
       "var viewer_1663415023877027 = null;\n",
       "var warn = document.getElementById(\"3dmolwarning_1663415023877027\");\n",
       "if(warn) {\n",
       "    warn.parentNode.removeChild(warn);\n",
       "}\n",
       "$3Dmolpromise.then(function() {\n",
       "viewer_1663415023877027 = $3Dmol.createViewer($(\"#3dmolviewer_1663415023877027\"),{backgroundColor:\"white\"});\n",
       "$3Dmol.download(\"pdb:5WOG\", viewer_1663415023877027, {}, function() {\n",
       "viewer_1663415023877027.zoomTo();\n",
       "\tviewer_1663415023877027.setStyle({\"cartoon\": {\"color\": \"spectrum\"}});\n",
       "\tviewer_1663415023877027.setStyle({\"hetflag\": true},{\"stick\": {\"radius\": 0.3, \"singleBond\": false}});\n",
       "\tviewer_1663415023877027.zoomTo();\n",
       "\tviewer_1663415023877027.setStyle({\"chain\": [\"A\", \"B\"]},{\"cartoon\": {\"color\": \"yellow\"}});\n",
       "\tviewer_1663415023877027.addLabel(\"alpha subunits\",{\"fontColor\": \"yellow\", \"backgroundColor\": \"lightgray\"},{\"chain\": [\"A\", \"B\"]});\n",
       "\tviewer_1663415023877027.setStyle({\"chain\": [\"C\", \"D\"]},{\"cartoon\": {\"color\": \"blue\"}});\n",
       "\tviewer_1663415023877027.addLabel(\"beta subunits\",{\"fontColor\": \"blue\", \"backgroundColor\": \"lightgray\"},{\"chain\": [\"C\", \"D\"]});\n",
       "\tviewer_1663415023877027.setStyle({\"resn\": \"HOH\"},{\"sphere\": {\"radius\": 0.5}});\n",
       "\tviewer_1663415023877027.setStyle({\"resn\": \"HOH\"},{});\n",
       "\tviewer_1663415023877027.setStyle({\"resn\": \"HEM\"},{\"sphere\": {\"radius\": 0.5}});\n",
       "\tviewer_1663415023877027.setStyle({\"resn\": \"HEM\"},{\"sphere\": {\"radius\": 2.0}});\n",
       "\tviewer_1663415023877027.setStyle({\"resn\": \"HOH\"},{\"sphere\": {\"radius\": 1.5}});\n",
       "\tviewer_1663415023877027.setStyle({\"resn\": \"HOH\"},{\"sphere\": {\"radius\": 0.5}});\n",
       "\tviewer_1663415023877027.setStyle({\"resn\": \"HEM\"},{\"sphere\": {\"radius\": 0.5}});\n",
       "\tviewer_1663415023877027.setStyle({\"resn\": \"HEM\"},{\"sphere\": {\"radius\": 2.5}});\n",
       "viewer_1663415023877027.render();\n",
       "})\n",
       "});\n",
       "</script>"
      ]
     },
     "metadata": {},
     "output_type": "display_data"
    }
   ],
   "source": [
    "hemoglobin.setStyle({'resn': 'HEM'}, {'sphere':{'radius':2.5}})\n",
    "hemoglobin.show()"
   ]
  },
  {
   "cell_type": "code",
   "execution_count": 7,
   "id": "26645497",
   "metadata": {},
   "outputs": [
    {
     "data": {
      "application/3dmoljs_load.v0": "<div id=\"3dmolviewer_16634145837864819\"  style=\"position: relative; width: 640px; height: 480px\">\n        <p id=\"3dmolwarning_16634145837864819\" style=\"background-color:#ffcccc;color:black\">You appear to be running in JupyterLab (or JavaScript failed to load for some other reason).  You need to install the 3dmol extension: <br>\n        <tt>jupyter labextension install jupyterlab_3dmol</tt></p>\n        </div>\n<script>\n\nvar loadScriptAsync = function(uri){\n  return new Promise((resolve, reject) => {\n    var tag = document.createElement('script');\n    tag.src = uri;\n    tag.async = true;\n    tag.onload = () => {\n      resolve();\n    };\n  var firstScriptTag = document.getElementsByTagName('script')[0];\n  firstScriptTag.parentNode.insertBefore(tag, firstScriptTag);\n});\n};\n\nif(typeof $3Dmolpromise === 'undefined') {\n$3Dmolpromise = null;\n  $3Dmolpromise = loadScriptAsync('https://3dmol.org/build/3Dmol.js');\n}\n\nvar viewer_16634145837864819 = null;\nvar warn = document.getElementById(\"3dmolwarning_16634145837864819\");\nif(warn) {\n    warn.parentNode.removeChild(warn);\n}\n$3Dmolpromise.then(function() {\nviewer_16634145837864819 = $3Dmol.createViewer($(\"#3dmolviewer_16634145837864819\"),{backgroundColor:\"white\"});\n$3Dmol.download(\"pdb:5WOG\", viewer_16634145837864819, {}, function() {\nviewer_16634145837864819.zoomTo();\n\tviewer_16634145837864819.setStyle({\"cartoon\": {\"color\": \"spectrum\"}});\n\tviewer_16634145837864819.setStyle({\"hetflag\": true},{\"stick\": {\"radius\": 0.3, \"singleBond\": false}});\n\tviewer_16634145837864819.zoomTo();\n\tviewer_16634145837864819.setStyle({\"chain\": [\"A\", \"B\"]},{\"cartoon\": {\"color\": \"yellow\"}});\n\tviewer_16634145837864819.addLabel(\"alpha subunits\",{\"fontColor\": \"yellow\", \"backgroundColor\": \"lightgray\"},{\"chain\": [\"A\", \"B\"]});\n\tviewer_16634145837864819.setStyle({\"chain\": [\"C\", \"D\"]},{\"cartoon\": {\"color\": \"blue\"}});\n\tviewer_16634145837864819.addLabel(\"beta subunits\",{\"fontColor\": \"blue\", \"backgroundColor\": \"lightgray\"},{\"chain\": [\"C\", \"D\"]});\n\tviewer_16634145837864819.setStyle({\"resn\": \"HOH\"},{\"sphere\": {\"radius\": 0.5}});\n\tviewer_16634145837864819.setStyle({\"resn\": \"HOH\"},{});\n\tviewer_16634145837864819.setStyle({\"resn\": \"HEM\"},{\"sphere\": {\"radius\": 0.5}});\n\tviewer_16634145837864819.setStyle({\"resn\": \"HEM\"},{\"sphere\": {\"radius\": 2.0}});\nviewer_16634145837864819.render();\n})\n});\n</script>",
      "text/html": [
       "<div id=\"3dmolviewer_16634145837864819\"  style=\"position: relative; width: 640px; height: 480px\">\n",
       "        <p id=\"3dmolwarning_16634145837864819\" style=\"background-color:#ffcccc;color:black\">You appear to be running in JupyterLab (or JavaScript failed to load for some other reason).  You need to install the 3dmol extension: <br>\n",
       "        <tt>jupyter labextension install jupyterlab_3dmol</tt></p>\n",
       "        </div>\n",
       "<script>\n",
       "\n",
       "var loadScriptAsync = function(uri){\n",
       "  return new Promise((resolve, reject) => {\n",
       "    var tag = document.createElement('script');\n",
       "    tag.src = uri;\n",
       "    tag.async = true;\n",
       "    tag.onload = () => {\n",
       "      resolve();\n",
       "    };\n",
       "  var firstScriptTag = document.getElementsByTagName('script')[0];\n",
       "  firstScriptTag.parentNode.insertBefore(tag, firstScriptTag);\n",
       "});\n",
       "};\n",
       "\n",
       "if(typeof $3Dmolpromise === 'undefined') {\n",
       "$3Dmolpromise = null;\n",
       "  $3Dmolpromise = loadScriptAsync('https://3dmol.org/build/3Dmol.js');\n",
       "}\n",
       "\n",
       "var viewer_16634145837864819 = null;\n",
       "var warn = document.getElementById(\"3dmolwarning_16634145837864819\");\n",
       "if(warn) {\n",
       "    warn.parentNode.removeChild(warn);\n",
       "}\n",
       "$3Dmolpromise.then(function() {\n",
       "viewer_16634145837864819 = $3Dmol.createViewer($(\"#3dmolviewer_16634145837864819\"),{backgroundColor:\"white\"});\n",
       "$3Dmol.download(\"pdb:5WOG\", viewer_16634145837864819, {}, function() {\n",
       "viewer_16634145837864819.zoomTo();\n",
       "\tviewer_16634145837864819.setStyle({\"cartoon\": {\"color\": \"spectrum\"}});\n",
       "\tviewer_16634145837864819.setStyle({\"hetflag\": true},{\"stick\": {\"radius\": 0.3, \"singleBond\": false}});\n",
       "\tviewer_16634145837864819.zoomTo();\n",
       "\tviewer_16634145837864819.setStyle({\"chain\": [\"A\", \"B\"]},{\"cartoon\": {\"color\": \"yellow\"}});\n",
       "\tviewer_16634145837864819.addLabel(\"alpha subunits\",{\"fontColor\": \"yellow\", \"backgroundColor\": \"lightgray\"},{\"chain\": [\"A\", \"B\"]});\n",
       "\tviewer_16634145837864819.setStyle({\"chain\": [\"C\", \"D\"]},{\"cartoon\": {\"color\": \"blue\"}});\n",
       "\tviewer_16634145837864819.addLabel(\"beta subunits\",{\"fontColor\": \"blue\", \"backgroundColor\": \"lightgray\"},{\"chain\": [\"C\", \"D\"]});\n",
       "\tviewer_16634145837864819.setStyle({\"resn\": \"HOH\"},{\"sphere\": {\"radius\": 0.5}});\n",
       "\tviewer_16634145837864819.setStyle({\"resn\": \"HOH\"},{});\n",
       "\tviewer_16634145837864819.setStyle({\"resn\": \"HEM\"},{\"sphere\": {\"radius\": 0.5}});\n",
       "\tviewer_16634145837864819.setStyle({\"resn\": \"HEM\"},{\"sphere\": {\"radius\": 2.0}});\n",
       "viewer_16634145837864819.render();\n",
       "})\n",
       "});\n",
       "</script>"
      ]
     },
     "metadata": {},
     "output_type": "display_data"
    }
   ],
   "source": [
    "hemoglobin.setStyle({'resn': 'HEM'}, {'sphere':{'radius':2.0}})\n",
    "hemoglobin.show()"
   ]
  },
  {
   "cell_type": "markdown",
   "id": "d52701ef",
   "metadata": {},
   "source": [
    "Now, turn the waters off"
   ]
  },
  {
   "cell_type": "code",
   "execution_count": 13,
   "id": "3b9a8d98",
   "metadata": {},
   "outputs": [
    {
     "data": {
      "application/3dmoljs_load.v0": "<div id=\"3dmolviewer_16634152580009449\"  style=\"position: relative; width: 640px; height: 480px\">\n        <p id=\"3dmolwarning_16634152580009449\" style=\"background-color:#ffcccc;color:black\">You appear to be running in JupyterLab (or JavaScript failed to load for some other reason).  You need to install the 3dmol extension: <br>\n        <tt>jupyter labextension install jupyterlab_3dmol</tt></p>\n        </div>\n<script>\n\nvar loadScriptAsync = function(uri){\n  return new Promise((resolve, reject) => {\n    var tag = document.createElement('script');\n    tag.src = uri;\n    tag.async = true;\n    tag.onload = () => {\n      resolve();\n    };\n  var firstScriptTag = document.getElementsByTagName('script')[0];\n  firstScriptTag.parentNode.insertBefore(tag, firstScriptTag);\n});\n};\n\nif(typeof $3Dmolpromise === 'undefined') {\n$3Dmolpromise = null;\n  $3Dmolpromise = loadScriptAsync('https://3dmol.org/build/3Dmol.js');\n}\n\nvar viewer_16634152580009449 = null;\nvar warn = document.getElementById(\"3dmolwarning_16634152580009449\");\nif(warn) {\n    warn.parentNode.removeChild(warn);\n}\n$3Dmolpromise.then(function() {\nviewer_16634152580009449 = $3Dmol.createViewer($(\"#3dmolviewer_16634152580009449\"),{backgroundColor:\"white\"});\n$3Dmol.download(\"pdb:5WOG\", viewer_16634152580009449, {}, function() {\nviewer_16634152580009449.zoomTo();\n\tviewer_16634152580009449.setStyle({\"cartoon\": {\"color\": \"spectrum\"}});\n\tviewer_16634152580009449.setStyle({\"hetflag\": true},{\"stick\": {\"radius\": 0.3, \"singleBond\": false}});\n\tviewer_16634152580009449.zoomTo();\n\tviewer_16634152580009449.setStyle({\"chain\": [\"A\", \"B\"]},{\"cartoon\": {\"color\": \"yellow\"}});\n\tviewer_16634152580009449.addLabel(\"alpha subunits\",{\"fontColor\": \"yellow\", \"backgroundColor\": \"lightgray\"},{\"chain\": [\"A\", \"B\"]});\n\tviewer_16634152580009449.setStyle({\"chain\": [\"C\", \"D\"]},{\"cartoon\": {\"color\": \"blue\"}});\n\tviewer_16634152580009449.addLabel(\"beta subunits\",{\"fontColor\": \"blue\", \"backgroundColor\": \"lightgray\"},{\"chain\": [\"C\", \"D\"]});\n\tviewer_16634152580009449.setStyle({\"resn\": \"HOH\"},{\"sphere\": {\"radius\": 0.5}});\n\tviewer_16634152580009449.setStyle({\"resn\": \"HOH\"},{});\n\tviewer_16634152580009449.setStyle({\"resn\": \"HEM\"},{\"sphere\": {\"radius\": 0.5}});\n\tviewer_16634152580009449.setStyle({\"resn\": \"HEM\"},{\"sphere\": {\"radius\": 2.0}});\n\tviewer_16634152580009449.setStyle({\"resn\": \"HOH\"},{\"sphere\": {\"radius\": 1.5}});\n\tviewer_16634152580009449.setStyle({\"resn\": \"HOH\"},{\"sphere\": {\"radius\": 0.5}});\n\tviewer_16634152580009449.setStyle({\"resn\": \"HEM\"},{\"sphere\": {\"radius\": 0.5}});\n\tviewer_16634152580009449.setStyle({\"resn\": \"HEM\"},{\"sphere\": {\"radius\": 2.5}});\n\tviewer_16634152580009449.setStyle({\"chain\": \"C\", \"resi\": \"6\"},{\"stick\": {\"colorscheme\": \"redCarbon\"}});\n\tviewer_16634152580009449.setStyle({\"chain\": \"D\", \"resi\": \"6\"},{\"stick\": {\"colorscheme\": \"redCarbon\"}});\n\tviewer_16634152580009449.setStyle({\"resn\": \"HOH\"},{});\nviewer_16634152580009449.render();\n})\n});\n</script>",
      "text/html": [
       "<div id=\"3dmolviewer_16634152580009449\"  style=\"position: relative; width: 640px; height: 480px\">\n",
       "        <p id=\"3dmolwarning_16634152580009449\" style=\"background-color:#ffcccc;color:black\">You appear to be running in JupyterLab (or JavaScript failed to load for some other reason).  You need to install the 3dmol extension: <br>\n",
       "        <tt>jupyter labextension install jupyterlab_3dmol</tt></p>\n",
       "        </div>\n",
       "<script>\n",
       "\n",
       "var loadScriptAsync = function(uri){\n",
       "  return new Promise((resolve, reject) => {\n",
       "    var tag = document.createElement('script');\n",
       "    tag.src = uri;\n",
       "    tag.async = true;\n",
       "    tag.onload = () => {\n",
       "      resolve();\n",
       "    };\n",
       "  var firstScriptTag = document.getElementsByTagName('script')[0];\n",
       "  firstScriptTag.parentNode.insertBefore(tag, firstScriptTag);\n",
       "});\n",
       "};\n",
       "\n",
       "if(typeof $3Dmolpromise === 'undefined') {\n",
       "$3Dmolpromise = null;\n",
       "  $3Dmolpromise = loadScriptAsync('https://3dmol.org/build/3Dmol.js');\n",
       "}\n",
       "\n",
       "var viewer_16634152580009449 = null;\n",
       "var warn = document.getElementById(\"3dmolwarning_16634152580009449\");\n",
       "if(warn) {\n",
       "    warn.parentNode.removeChild(warn);\n",
       "}\n",
       "$3Dmolpromise.then(function() {\n",
       "viewer_16634152580009449 = $3Dmol.createViewer($(\"#3dmolviewer_16634152580009449\"),{backgroundColor:\"white\"});\n",
       "$3Dmol.download(\"pdb:5WOG\", viewer_16634152580009449, {}, function() {\n",
       "viewer_16634152580009449.zoomTo();\n",
       "\tviewer_16634152580009449.setStyle({\"cartoon\": {\"color\": \"spectrum\"}});\n",
       "\tviewer_16634152580009449.setStyle({\"hetflag\": true},{\"stick\": {\"radius\": 0.3, \"singleBond\": false}});\n",
       "\tviewer_16634152580009449.zoomTo();\n",
       "\tviewer_16634152580009449.setStyle({\"chain\": [\"A\", \"B\"]},{\"cartoon\": {\"color\": \"yellow\"}});\n",
       "\tviewer_16634152580009449.addLabel(\"alpha subunits\",{\"fontColor\": \"yellow\", \"backgroundColor\": \"lightgray\"},{\"chain\": [\"A\", \"B\"]});\n",
       "\tviewer_16634152580009449.setStyle({\"chain\": [\"C\", \"D\"]},{\"cartoon\": {\"color\": \"blue\"}});\n",
       "\tviewer_16634152580009449.addLabel(\"beta subunits\",{\"fontColor\": \"blue\", \"backgroundColor\": \"lightgray\"},{\"chain\": [\"C\", \"D\"]});\n",
       "\tviewer_16634152580009449.setStyle({\"resn\": \"HOH\"},{\"sphere\": {\"radius\": 0.5}});\n",
       "\tviewer_16634152580009449.setStyle({\"resn\": \"HOH\"},{});\n",
       "\tviewer_16634152580009449.setStyle({\"resn\": \"HEM\"},{\"sphere\": {\"radius\": 0.5}});\n",
       "\tviewer_16634152580009449.setStyle({\"resn\": \"HEM\"},{\"sphere\": {\"radius\": 2.0}});\n",
       "\tviewer_16634152580009449.setStyle({\"resn\": \"HOH\"},{\"sphere\": {\"radius\": 1.5}});\n",
       "\tviewer_16634152580009449.setStyle({\"resn\": \"HOH\"},{\"sphere\": {\"radius\": 0.5}});\n",
       "\tviewer_16634152580009449.setStyle({\"resn\": \"HEM\"},{\"sphere\": {\"radius\": 0.5}});\n",
       "\tviewer_16634152580009449.setStyle({\"resn\": \"HEM\"},{\"sphere\": {\"radius\": 2.5}});\n",
       "\tviewer_16634152580009449.setStyle({\"chain\": \"C\", \"resi\": \"6\"},{\"stick\": {\"colorscheme\": \"redCarbon\"}});\n",
       "\tviewer_16634152580009449.setStyle({\"chain\": \"D\", \"resi\": \"6\"},{\"stick\": {\"colorscheme\": \"redCarbon\"}});\n",
       "\tviewer_16634152580009449.setStyle({\"resn\": \"HOH\"},{});\n",
       "viewer_16634152580009449.render();\n",
       "})\n",
       "});\n",
       "</script>"
      ]
     },
     "metadata": {},
     "output_type": "display_data"
    }
   ],
   "source": [
    "hemoglobin.setStyle({'resn': 'HOH'}, {})\n",
    "hemoglobin.show()"
   ]
  },
  {
   "cell_type": "markdown",
   "id": "bbacea01",
   "metadata": {},
   "source": [
    "## Exercise\n",
    "\n",
    "**Try on your own**\n",
    "\n",
    "1. Visualize all the heme residues that interact with hemoglobin. HINT: the residue name for heme is \"HEM\" and you may want to use the \"stick\" representation. \n",
    "\n",
    "2. Visualize the protein with the PDB ID \"1JM7\", label the two different proteins and show the zinc ions that interat with this complex. \n",
    "\n",
    "    HINT #1: This PDB is linked to a co-crystal structure of BRCA1 (ring domain, chain A) and BARD1 protein (chain B); therefore, you are visualizing a heterodimer, or a macromolecular complex composed of two polypeptide chains. Mutations in BRCA1 are commonly associated with breast cancer. Additionally, visualize the water residues that interact with this heterodimer.\n",
    "    HINT #2: The zinc ion are called \"ZN\" and you may want to increase the radius size from 0.5 to 1.5."
   ]
  },
  {
   "cell_type": "code",
   "execution_count": null,
   "id": "9ba98a25",
   "metadata": {},
   "outputs": [],
   "source": []
  },
  {
   "cell_type": "markdown",
   "id": "d1c69b0e",
   "metadata": {},
   "source": [
    "## 3.0 Visualizing specific amino acids\n",
    "\n",
    "Now let's visualize some specific amino acids on the hemoglobin protein. Here, we are looking at the 6th amino acid in the beta chains, which is a glutamine. Take a second to think about how changing this amino acid might affect the structure and function of the hemoglobin protein."
   ]
  },
  {
   "cell_type": "code",
   "execution_count": 16,
   "id": "ba2d8bec",
   "metadata": {},
   "outputs": [
    {
     "data": {
      "application/3dmoljs_load.v0": "<div id=\"3dmolviewer_1663415892312031\"  style=\"position: relative; width: 640px; height: 480px\">\n        <p id=\"3dmolwarning_1663415892312031\" style=\"background-color:#ffcccc;color:black\">You appear to be running in JupyterLab (or JavaScript failed to load for some other reason).  You need to install the 3dmol extension: <br>\n        <tt>jupyter labextension install jupyterlab_3dmol</tt></p>\n        </div>\n<script>\n\nvar loadScriptAsync = function(uri){\n  return new Promise((resolve, reject) => {\n    var tag = document.createElement('script');\n    tag.src = uri;\n    tag.async = true;\n    tag.onload = () => {\n      resolve();\n    };\n  var firstScriptTag = document.getElementsByTagName('script')[0];\n  firstScriptTag.parentNode.insertBefore(tag, firstScriptTag);\n});\n};\n\nif(typeof $3Dmolpromise === 'undefined') {\n$3Dmolpromise = null;\n  $3Dmolpromise = loadScriptAsync('https://3dmol.org/build/3Dmol.js');\n}\n\nvar viewer_1663415892312031 = null;\nvar warn = document.getElementById(\"3dmolwarning_1663415892312031\");\nif(warn) {\n    warn.parentNode.removeChild(warn);\n}\n$3Dmolpromise.then(function() {\nviewer_1663415892312031 = $3Dmol.createViewer($(\"#3dmolviewer_1663415892312031\"),{backgroundColor:\"white\"});\n$3Dmol.download(\"pdb:5WOG\", viewer_1663415892312031, {}, function() {\nviewer_1663415892312031.zoomTo();\n\tviewer_1663415892312031.setStyle({\"cartoon\": {\"color\": \"spectrum\"}});\n\tviewer_1663415892312031.setStyle({\"hetflag\": true},{\"stick\": {\"radius\": 0.3, \"singleBond\": false}});\n\tviewer_1663415892312031.zoomTo();\n\tviewer_1663415892312031.setStyle({\"chain\": [\"A\", \"B\"]},{\"cartoon\": {\"color\": \"yellow\"}});\n\tviewer_1663415892312031.addLabel(\"alpha subunits\",{\"fontColor\": \"yellow\", \"backgroundColor\": \"lightgray\"},{\"chain\": [\"A\", \"B\"]});\n\tviewer_1663415892312031.setStyle({\"chain\": [\"C\", \"D\"]},{\"cartoon\": {\"color\": \"blue\"}});\n\tviewer_1663415892312031.addLabel(\"beta subunits\",{\"fontColor\": \"blue\", \"backgroundColor\": \"lightgray\"},{\"chain\": [\"C\", \"D\"]});\n\tviewer_1663415892312031.setStyle({\"resn\": \"HOH\"},{\"sphere\": {\"radius\": 0.5}});\n\tviewer_1663415892312031.setStyle({\"resn\": \"HOH\"},{});\n\tviewer_1663415892312031.setStyle({\"resn\": \"HEM\"},{\"sphere\": {\"radius\": 0.5}});\n\tviewer_1663415892312031.setStyle({\"resn\": \"HEM\"},{\"sphere\": {\"radius\": 2.0}});\n\tviewer_1663415892312031.setStyle({\"resn\": \"HOH\"},{\"sphere\": {\"radius\": 1.5}});\n\tviewer_1663415892312031.setStyle({\"resn\": \"HOH\"},{\"sphere\": {\"radius\": 0.5}});\n\tviewer_1663415892312031.setStyle({\"resn\": \"HEM\"},{\"sphere\": {\"radius\": 0.5}});\n\tviewer_1663415892312031.setStyle({\"resn\": \"HEM\"},{\"sphere\": {\"radius\": 2.5}});\n\tviewer_1663415892312031.setStyle({\"chain\": \"C\", \"resi\": \"6\"},{\"stick\": {\"colorscheme\": \"redCarbon\"}});\n\tviewer_1663415892312031.setStyle({\"chain\": \"D\", \"resi\": \"6\"},{\"stick\": {\"colorscheme\": \"redCarbon\"}});\n\tviewer_1663415892312031.setStyle({\"resn\": \"HOH\"},{});\n\tviewer_1663415892312031.setStyle({\"chain\": \"C\", \"resi\": \"6\"},{\"stick\": {\"colorscheme\": \"redCarbon\"}});\n\tviewer_1663415892312031.setStyle({\"chain\": \"D\", \"resi\": \"6\"},{\"stick\": {\"colorscheme\": \"redCarbon\"}});\n\tviewer_1663415892312031.setStyle({\"chain\": \"C\", \"resi\": \"2\"},{\"stick\": {\"colorscheme\": \"greenCarbon\"}});\n\tviewer_1663415892312031.setStyle({\"chain\": \"D\", \"resi\": \"2\"},{\"stick\": {\"colorscheme\": \"greenCarbon\"}});\n\tviewer_1663415892312031.setStyle({\"chain\": \"C\", \"resi\": \"2\"},{\"stick\": {\"colorscheme\": \"greenCarbon\"}});\n\tviewer_1663415892312031.setStyle({\"chain\": \"D\", \"resi\": \"2\"},{\"stick\": {\"colorscheme\": \"greenCarbon\"}});\n\tviewer_1663415892312031.setStyle({\"chain\": \"C\", \"resi\": \"146\"},{\"stick\": {\"colorscheme\": \"greenCarbon\"}});\n\tviewer_1663415892312031.setStyle({\"chain\": \"D\", \"resi\": \"146\"},{\"stick\": {\"colorscheme\": \"greenCarbon\"}});\nviewer_1663415892312031.render();\n})\n});\n</script>",
      "text/html": [
       "<div id=\"3dmolviewer_1663415892312031\"  style=\"position: relative; width: 640px; height: 480px\">\n",
       "        <p id=\"3dmolwarning_1663415892312031\" style=\"background-color:#ffcccc;color:black\">You appear to be running in JupyterLab (or JavaScript failed to load for some other reason).  You need to install the 3dmol extension: <br>\n",
       "        <tt>jupyter labextension install jupyterlab_3dmol</tt></p>\n",
       "        </div>\n",
       "<script>\n",
       "\n",
       "var loadScriptAsync = function(uri){\n",
       "  return new Promise((resolve, reject) => {\n",
       "    var tag = document.createElement('script');\n",
       "    tag.src = uri;\n",
       "    tag.async = true;\n",
       "    tag.onload = () => {\n",
       "      resolve();\n",
       "    };\n",
       "  var firstScriptTag = document.getElementsByTagName('script')[0];\n",
       "  firstScriptTag.parentNode.insertBefore(tag, firstScriptTag);\n",
       "});\n",
       "};\n",
       "\n",
       "if(typeof $3Dmolpromise === 'undefined') {\n",
       "$3Dmolpromise = null;\n",
       "  $3Dmolpromise = loadScriptAsync('https://3dmol.org/build/3Dmol.js');\n",
       "}\n",
       "\n",
       "var viewer_1663415892312031 = null;\n",
       "var warn = document.getElementById(\"3dmolwarning_1663415892312031\");\n",
       "if(warn) {\n",
       "    warn.parentNode.removeChild(warn);\n",
       "}\n",
       "$3Dmolpromise.then(function() {\n",
       "viewer_1663415892312031 = $3Dmol.createViewer($(\"#3dmolviewer_1663415892312031\"),{backgroundColor:\"white\"});\n",
       "$3Dmol.download(\"pdb:5WOG\", viewer_1663415892312031, {}, function() {\n",
       "viewer_1663415892312031.zoomTo();\n",
       "\tviewer_1663415892312031.setStyle({\"cartoon\": {\"color\": \"spectrum\"}});\n",
       "\tviewer_1663415892312031.setStyle({\"hetflag\": true},{\"stick\": {\"radius\": 0.3, \"singleBond\": false}});\n",
       "\tviewer_1663415892312031.zoomTo();\n",
       "\tviewer_1663415892312031.setStyle({\"chain\": [\"A\", \"B\"]},{\"cartoon\": {\"color\": \"yellow\"}});\n",
       "\tviewer_1663415892312031.addLabel(\"alpha subunits\",{\"fontColor\": \"yellow\", \"backgroundColor\": \"lightgray\"},{\"chain\": [\"A\", \"B\"]});\n",
       "\tviewer_1663415892312031.setStyle({\"chain\": [\"C\", \"D\"]},{\"cartoon\": {\"color\": \"blue\"}});\n",
       "\tviewer_1663415892312031.addLabel(\"beta subunits\",{\"fontColor\": \"blue\", \"backgroundColor\": \"lightgray\"},{\"chain\": [\"C\", \"D\"]});\n",
       "\tviewer_1663415892312031.setStyle({\"resn\": \"HOH\"},{\"sphere\": {\"radius\": 0.5}});\n",
       "\tviewer_1663415892312031.setStyle({\"resn\": \"HOH\"},{});\n",
       "\tviewer_1663415892312031.setStyle({\"resn\": \"HEM\"},{\"sphere\": {\"radius\": 0.5}});\n",
       "\tviewer_1663415892312031.setStyle({\"resn\": \"HEM\"},{\"sphere\": {\"radius\": 2.0}});\n",
       "\tviewer_1663415892312031.setStyle({\"resn\": \"HOH\"},{\"sphere\": {\"radius\": 1.5}});\n",
       "\tviewer_1663415892312031.setStyle({\"resn\": \"HOH\"},{\"sphere\": {\"radius\": 0.5}});\n",
       "\tviewer_1663415892312031.setStyle({\"resn\": \"HEM\"},{\"sphere\": {\"radius\": 0.5}});\n",
       "\tviewer_1663415892312031.setStyle({\"resn\": \"HEM\"},{\"sphere\": {\"radius\": 2.5}});\n",
       "\tviewer_1663415892312031.setStyle({\"chain\": \"C\", \"resi\": \"6\"},{\"stick\": {\"colorscheme\": \"redCarbon\"}});\n",
       "\tviewer_1663415892312031.setStyle({\"chain\": \"D\", \"resi\": \"6\"},{\"stick\": {\"colorscheme\": \"redCarbon\"}});\n",
       "\tviewer_1663415892312031.setStyle({\"resn\": \"HOH\"},{});\n",
       "\tviewer_1663415892312031.setStyle({\"chain\": \"C\", \"resi\": \"6\"},{\"stick\": {\"colorscheme\": \"redCarbon\"}});\n",
       "\tviewer_1663415892312031.setStyle({\"chain\": \"D\", \"resi\": \"6\"},{\"stick\": {\"colorscheme\": \"redCarbon\"}});\n",
       "\tviewer_1663415892312031.setStyle({\"chain\": \"C\", \"resi\": \"2\"},{\"stick\": {\"colorscheme\": \"greenCarbon\"}});\n",
       "\tviewer_1663415892312031.setStyle({\"chain\": \"D\", \"resi\": \"2\"},{\"stick\": {\"colorscheme\": \"greenCarbon\"}});\n",
       "\tviewer_1663415892312031.setStyle({\"chain\": \"C\", \"resi\": \"2\"},{\"stick\": {\"colorscheme\": \"greenCarbon\"}});\n",
       "\tviewer_1663415892312031.setStyle({\"chain\": \"D\", \"resi\": \"2\"},{\"stick\": {\"colorscheme\": \"greenCarbon\"}});\n",
       "\tviewer_1663415892312031.setStyle({\"chain\": \"C\", \"resi\": \"146\"},{\"stick\": {\"colorscheme\": \"greenCarbon\"}});\n",
       "\tviewer_1663415892312031.setStyle({\"chain\": \"D\", \"resi\": \"146\"},{\"stick\": {\"colorscheme\": \"greenCarbon\"}});\n",
       "viewer_1663415892312031.render();\n",
       "})\n",
       "});\n",
       "</script>"
      ]
     },
     "metadata": {},
     "output_type": "display_data"
    }
   ],
   "source": [
    "hemoglobin.setStyle({'chain': 'C', 'resi': '2'},{'stick': {'colorscheme': 'greenCarbon'}})\n",
    "hemoglobin.setStyle({'chain': 'D', 'resi': '2'},{'stick': {'colorscheme': 'greenCarbon'}})\n",
    "hemoglobin.setStyle({'chain': 'C', 'resi': '146'},{'stick': {'colorscheme': 'greenCarbon'}})\n",
    "hemoglobin.setStyle({'chain': 'D', 'resi': '146'},{'stick': {'colorscheme': 'greenCarbon'}})\n",
    "hemoglobin.show()"
   ]
  },
  {
   "cell_type": "code",
   "execution_count": 14,
   "id": "d2b69e9e",
   "metadata": {},
   "outputs": [
    {
     "data": {
      "application/3dmoljs_load.v0": "<div id=\"3dmolviewer_1663415271051604\"  style=\"position: relative; width: 640px; height: 480px\">\n        <p id=\"3dmolwarning_1663415271051604\" style=\"background-color:#ffcccc;color:black\">You appear to be running in JupyterLab (or JavaScript failed to load for some other reason).  You need to install the 3dmol extension: <br>\n        <tt>jupyter labextension install jupyterlab_3dmol</tt></p>\n        </div>\n<script>\n\nvar loadScriptAsync = function(uri){\n  return new Promise((resolve, reject) => {\n    var tag = document.createElement('script');\n    tag.src = uri;\n    tag.async = true;\n    tag.onload = () => {\n      resolve();\n    };\n  var firstScriptTag = document.getElementsByTagName('script')[0];\n  firstScriptTag.parentNode.insertBefore(tag, firstScriptTag);\n});\n};\n\nif(typeof $3Dmolpromise === 'undefined') {\n$3Dmolpromise = null;\n  $3Dmolpromise = loadScriptAsync('https://3dmol.org/build/3Dmol.js');\n}\n\nvar viewer_1663415271051604 = null;\nvar warn = document.getElementById(\"3dmolwarning_1663415271051604\");\nif(warn) {\n    warn.parentNode.removeChild(warn);\n}\n$3Dmolpromise.then(function() {\nviewer_1663415271051604 = $3Dmol.createViewer($(\"#3dmolviewer_1663415271051604\"),{backgroundColor:\"white\"});\n$3Dmol.download(\"pdb:5WOG\", viewer_1663415271051604, {}, function() {\nviewer_1663415271051604.zoomTo();\n\tviewer_1663415271051604.setStyle({\"cartoon\": {\"color\": \"spectrum\"}});\n\tviewer_1663415271051604.setStyle({\"hetflag\": true},{\"stick\": {\"radius\": 0.3, \"singleBond\": false}});\n\tviewer_1663415271051604.zoomTo();\n\tviewer_1663415271051604.setStyle({\"chain\": [\"A\", \"B\"]},{\"cartoon\": {\"color\": \"yellow\"}});\n\tviewer_1663415271051604.addLabel(\"alpha subunits\",{\"fontColor\": \"yellow\", \"backgroundColor\": \"lightgray\"},{\"chain\": [\"A\", \"B\"]});\n\tviewer_1663415271051604.setStyle({\"chain\": [\"C\", \"D\"]},{\"cartoon\": {\"color\": \"blue\"}});\n\tviewer_1663415271051604.addLabel(\"beta subunits\",{\"fontColor\": \"blue\", \"backgroundColor\": \"lightgray\"},{\"chain\": [\"C\", \"D\"]});\n\tviewer_1663415271051604.setStyle({\"resn\": \"HOH\"},{\"sphere\": {\"radius\": 0.5}});\n\tviewer_1663415271051604.setStyle({\"resn\": \"HOH\"},{});\n\tviewer_1663415271051604.setStyle({\"resn\": \"HEM\"},{\"sphere\": {\"radius\": 0.5}});\n\tviewer_1663415271051604.setStyle({\"resn\": \"HEM\"},{\"sphere\": {\"radius\": 2.0}});\n\tviewer_1663415271051604.setStyle({\"resn\": \"HOH\"},{\"sphere\": {\"radius\": 1.5}});\n\tviewer_1663415271051604.setStyle({\"resn\": \"HOH\"},{\"sphere\": {\"radius\": 0.5}});\n\tviewer_1663415271051604.setStyle({\"resn\": \"HEM\"},{\"sphere\": {\"radius\": 0.5}});\n\tviewer_1663415271051604.setStyle({\"resn\": \"HEM\"},{\"sphere\": {\"radius\": 2.5}});\n\tviewer_1663415271051604.setStyle({\"chain\": \"C\", \"resi\": \"6\"},{\"stick\": {\"colorscheme\": \"redCarbon\"}});\n\tviewer_1663415271051604.setStyle({\"chain\": \"D\", \"resi\": \"6\"},{\"stick\": {\"colorscheme\": \"redCarbon\"}});\n\tviewer_1663415271051604.setStyle({\"resn\": \"HOH\"},{});\n\tviewer_1663415271051604.setStyle({\"chain\": \"C\", \"resi\": \"6\"},{\"stick\": {\"colorscheme\": \"redCarbon\"}});\n\tviewer_1663415271051604.setStyle({\"chain\": \"D\", \"resi\": \"6\"},{\"stick\": {\"colorscheme\": \"redCarbon\"}});\nviewer_1663415271051604.render();\n})\n});\n</script>",
      "text/html": [
       "<div id=\"3dmolviewer_1663415271051604\"  style=\"position: relative; width: 640px; height: 480px\">\n",
       "        <p id=\"3dmolwarning_1663415271051604\" style=\"background-color:#ffcccc;color:black\">You appear to be running in JupyterLab (or JavaScript failed to load for some other reason).  You need to install the 3dmol extension: <br>\n",
       "        <tt>jupyter labextension install jupyterlab_3dmol</tt></p>\n",
       "        </div>\n",
       "<script>\n",
       "\n",
       "var loadScriptAsync = function(uri){\n",
       "  return new Promise((resolve, reject) => {\n",
       "    var tag = document.createElement('script');\n",
       "    tag.src = uri;\n",
       "    tag.async = true;\n",
       "    tag.onload = () => {\n",
       "      resolve();\n",
       "    };\n",
       "  var firstScriptTag = document.getElementsByTagName('script')[0];\n",
       "  firstScriptTag.parentNode.insertBefore(tag, firstScriptTag);\n",
       "});\n",
       "};\n",
       "\n",
       "if(typeof $3Dmolpromise === 'undefined') {\n",
       "$3Dmolpromise = null;\n",
       "  $3Dmolpromise = loadScriptAsync('https://3dmol.org/build/3Dmol.js');\n",
       "}\n",
       "\n",
       "var viewer_1663415271051604 = null;\n",
       "var warn = document.getElementById(\"3dmolwarning_1663415271051604\");\n",
       "if(warn) {\n",
       "    warn.parentNode.removeChild(warn);\n",
       "}\n",
       "$3Dmolpromise.then(function() {\n",
       "viewer_1663415271051604 = $3Dmol.createViewer($(\"#3dmolviewer_1663415271051604\"),{backgroundColor:\"white\"});\n",
       "$3Dmol.download(\"pdb:5WOG\", viewer_1663415271051604, {}, function() {\n",
       "viewer_1663415271051604.zoomTo();\n",
       "\tviewer_1663415271051604.setStyle({\"cartoon\": {\"color\": \"spectrum\"}});\n",
       "\tviewer_1663415271051604.setStyle({\"hetflag\": true},{\"stick\": {\"radius\": 0.3, \"singleBond\": false}});\n",
       "\tviewer_1663415271051604.zoomTo();\n",
       "\tviewer_1663415271051604.setStyle({\"chain\": [\"A\", \"B\"]},{\"cartoon\": {\"color\": \"yellow\"}});\n",
       "\tviewer_1663415271051604.addLabel(\"alpha subunits\",{\"fontColor\": \"yellow\", \"backgroundColor\": \"lightgray\"},{\"chain\": [\"A\", \"B\"]});\n",
       "\tviewer_1663415271051604.setStyle({\"chain\": [\"C\", \"D\"]},{\"cartoon\": {\"color\": \"blue\"}});\n",
       "\tviewer_1663415271051604.addLabel(\"beta subunits\",{\"fontColor\": \"blue\", \"backgroundColor\": \"lightgray\"},{\"chain\": [\"C\", \"D\"]});\n",
       "\tviewer_1663415271051604.setStyle({\"resn\": \"HOH\"},{\"sphere\": {\"radius\": 0.5}});\n",
       "\tviewer_1663415271051604.setStyle({\"resn\": \"HOH\"},{});\n",
       "\tviewer_1663415271051604.setStyle({\"resn\": \"HEM\"},{\"sphere\": {\"radius\": 0.5}});\n",
       "\tviewer_1663415271051604.setStyle({\"resn\": \"HEM\"},{\"sphere\": {\"radius\": 2.0}});\n",
       "\tviewer_1663415271051604.setStyle({\"resn\": \"HOH\"},{\"sphere\": {\"radius\": 1.5}});\n",
       "\tviewer_1663415271051604.setStyle({\"resn\": \"HOH\"},{\"sphere\": {\"radius\": 0.5}});\n",
       "\tviewer_1663415271051604.setStyle({\"resn\": \"HEM\"},{\"sphere\": {\"radius\": 0.5}});\n",
       "\tviewer_1663415271051604.setStyle({\"resn\": \"HEM\"},{\"sphere\": {\"radius\": 2.5}});\n",
       "\tviewer_1663415271051604.setStyle({\"chain\": \"C\", \"resi\": \"6\"},{\"stick\": {\"colorscheme\": \"redCarbon\"}});\n",
       "\tviewer_1663415271051604.setStyle({\"chain\": \"D\", \"resi\": \"6\"},{\"stick\": {\"colorscheme\": \"redCarbon\"}});\n",
       "\tviewer_1663415271051604.setStyle({\"resn\": \"HOH\"},{});\n",
       "\tviewer_1663415271051604.setStyle({\"chain\": \"C\", \"resi\": \"6\"},{\"stick\": {\"colorscheme\": \"redCarbon\"}});\n",
       "\tviewer_1663415271051604.setStyle({\"chain\": \"D\", \"resi\": \"6\"},{\"stick\": {\"colorscheme\": \"redCarbon\"}});\n",
       "viewer_1663415271051604.render();\n",
       "})\n",
       "});\n",
       "</script>"
      ]
     },
     "metadata": {},
     "output_type": "display_data"
    }
   ],
   "source": [
    "hemoglobin.setStyle({'chain': 'C', 'resi': '6'},{'stick': {'colorscheme': 'redCarbon'}})\n",
    "hemoglobin.setStyle({'chain': 'D', 'resi': '6'},{'stick': {'colorscheme': 'redCarbon'}})\n",
    "hemoglobin.show()"
   ]
  },
  {
   "cell_type": "markdown",
   "id": "0d72e324",
   "metadata": {},
   "source": [
    "In people affected with sickle cell anemia, this glutamine is changed to a valine. Molecules of sickle cell affected hemoglobin stick to one another, forming rigid rods. These rods cause a person's red blood cells to take on a deformed, sickle-like shape. These blood cells do not carry oxygen well, and they also tend to clog capillaries. So, when a person affected by sickle cell anemia exerts themselves even slightly, they often experience terrible pain, and might even undergo heart attack or stroke—all because of a single substitution!"
   ]
  },
  {
   "cell_type": "markdown",
   "id": "7165e8ad",
   "metadata": {},
   "source": [
    "## 4.0 Mutations in Proteins\n",
    "\n",
    "Saturation mutagenesis is a technique that substitutes different amino acids at each position of the protein.\n",
    "\n",
    "We can link saturation mutagenesis of proteins to the observed changes in their structure and function using another approach, called Multiplexed Assays of Variant Effect (MAVE). This data can be used in clinical applications to study and develop cures for diseases caused by the mutations that impact protein structure and function. \n",
    "\n",
    "The MAVE Data Base (MAVE DB) contains a repository of MAVE data. This data base can be accessed at mavedb.org. \n",
    "\n",
    "In this exercise, you will look at 5 different mutations in BRCA1 (cancer oncoprotein) from a MAVE dataset and explore their effects on protein function. "
   ]
  },
  {
   "cell_type": "markdown",
   "id": "a2ccd9da",
   "metadata": {},
   "source": [
    "First, we will start by importing the data as a Pandas dataframe from a .csv (comma separated values) file. "
   ]
  },
  {
   "cell_type": "code",
   "execution_count": 11,
   "id": "0513b90d",
   "metadata": {},
   "outputs": [
    {
     "data": {
      "text/html": [
       "<div>\n",
       "<style scoped>\n",
       "    .dataframe tbody tr th:only-of-type {\n",
       "        vertical-align: middle;\n",
       "    }\n",
       "\n",
       "    .dataframe tbody tr th {\n",
       "        vertical-align: top;\n",
       "    }\n",
       "\n",
       "    .dataframe thead th {\n",
       "        text-align: right;\n",
       "    }\n",
       "</style>\n",
       "<table border=\"1\" class=\"dataframe\">\n",
       "  <thead>\n",
       "    <tr style=\"text-align: right;\">\n",
       "      <th></th>\n",
       "      <th>accession</th>\n",
       "      <th>hgvs_nt</th>\n",
       "      <th>hgvs_pro</th>\n",
       "      <th>score</th>\n",
       "    </tr>\n",
       "  </thead>\n",
       "  <tbody>\n",
       "    <tr>\n",
       "      <th>0</th>\n",
       "      <td>urn:mavedb:00000003-a-1#1370</td>\n",
       "      <td>77G&gt;T</td>\n",
       "      <td>Cys26Phe</td>\n",
       "      <td>-4.134405</td>\n",
       "    </tr>\n",
       "    <tr>\n",
       "      <th>1</th>\n",
       "      <td>urn:mavedb:00000003-a-1#1622</td>\n",
       "      <td>33A&gt;T</td>\n",
       "      <td>Gln11His</td>\n",
       "      <td>0.796523</td>\n",
       "    </tr>\n",
       "    <tr>\n",
       "      <th>2</th>\n",
       "      <td>urn:mavedb:00000003-a-1#9137</td>\n",
       "      <td>159G&gt;T</td>\n",
       "      <td>Gln53His</td>\n",
       "      <td>-2.211282</td>\n",
       "    </tr>\n",
       "    <tr>\n",
       "      <th>3</th>\n",
       "      <td>urn:mavedb:00000003-a-1#2102</td>\n",
       "      <td>136T&gt;G</td>\n",
       "      <td>Cys46Gly</td>\n",
       "      <td>-1.624800</td>\n",
       "    </tr>\n",
       "    <tr>\n",
       "      <th>4</th>\n",
       "      <td>urn:mavedb:00000003-a-1#1264</td>\n",
       "      <td>266T&gt;G</td>\n",
       "      <td>Ile89Ser</td>\n",
       "      <td>-1.066312</td>\n",
       "    </tr>\n",
       "  </tbody>\n",
       "</table>\n",
       "</div>"
      ],
      "text/plain": [
       "                      accession hgvs_nt  hgvs_pro     score\n",
       "0  urn:mavedb:00000003-a-1#1370   77G>T  Cys26Phe -4.134405\n",
       "1  urn:mavedb:00000003-a-1#1622   33A>T  Gln11His  0.796523\n",
       "2  urn:mavedb:00000003-a-1#9137  159G>T  Gln53His -2.211282\n",
       "3  urn:mavedb:00000003-a-1#2102  136T>G  Cys46Gly -1.624800\n",
       "4  urn:mavedb:00000003-a-1#1264  266T>G  Ile89Ser -1.066312"
      ]
     },
     "execution_count": 11,
     "metadata": {},
     "output_type": "execute_result"
    }
   ],
   "source": [
    "import pandas as pd # import the pandas package, which is a common data analysis package\n",
    "MAVEdata = pd.read_csv('BRCA1_MAVE_practicedata.csv') # import the csv data as a pandas dataframe\n",
    "MAVEdata = MAVEdata[['accession','hgvs_nt','hgvs_pro','score']] # only view the important columns\n",
    "MAVEdata # visualize the dataframe"
   ]
  },
  {
   "cell_type": "markdown",
   "id": "507a70d8",
   "metadata": {},
   "source": [
    "In the table above, the \"accession\" number is the MAVE ID number. \n",
    "\n",
    "- The \"hgvs_nt\" column describes the **nucleotide substitution** for this mutation. For example, in the 0th row, the guanine in the 77th position of the BRCA1 gene is replaced by a thymine. \n",
    "\n",
    "- The \"hgvs_pro\" column translates this to the **amino acid level**. Here, the codon that is originally encoding a cysteine is now changed to a phenylalanine. This occurs in the 26th position of the protein. \n",
    "\n",
    "Find more information at https://www.mavedb.org/docs/mavedb/ if you are interested."
   ]
  },
  {
   "cell_type": "markdown",
   "id": "bb1732d2",
   "metadata": {},
   "source": [
    "## Exercise\n",
    "\n",
    "**Try on your own**\n",
    "\n",
    "3. Visualize the amino acids in the positions described in the MAVE data. \n",
    "\n",
    "    HINT #1: Use the same heterodimer structure from the previous exercise. Adapt this using the same approach that was done for the 6th amino acid of glutamine was visualized for hemoglobin exaple above. \n",
    "   \n",
    "   HINT #2: You must add 1 to all amino acid positions in the MAVE table. So, for the 0th row, Cys26 is actually Cys27 in the PDB structure. \n",
    " \n",
    " \n",
    "4. All of these mutations cause a loss of function (LOF) in the BRCA1 RING domain. The mutation in the 0th row causes the largest LOF (it has the lowest score, of -4.13), while the mutation in the 1st row causes the smallest LOF. After visualizing all five mutations, hypothesize why they have lower impacts compared to the 0th row mutant. "
   ]
  },
  {
   "cell_type": "markdown",
   "id": "43118136",
   "metadata": {},
   "source": [
    "**Acknowledgements**: \n",
    "This tutorial was developed by Kriti Shukla and Brunk Lab at the University of North Carolina at Chapel Hill. Parts of the tutorial were adapted from the MMTF-2018 Workshop & Hackathon, hosted by Dr. Peter W. Rose at the University of California, San Diego.  "
   ]
  },
  {
   "cell_type": "code",
   "execution_count": null,
   "id": "b1fc0d65",
   "metadata": {},
   "outputs": [],
   "source": []
  }
 ],
 "metadata": {
  "kernelspec": {
   "display_name": "Python 3",
   "language": "python",
   "name": "python3"
  },
  "language_info": {
   "codemirror_mode": {
    "name": "ipython",
    "version": 3
   },
   "file_extension": ".py",
   "mimetype": "text/x-python",
   "name": "python",
   "nbconvert_exporter": "python",
   "pygments_lexer": "ipython3",
   "version": "3.8.8"
  }
 },
 "nbformat": 4,
 "nbformat_minor": 5
}
