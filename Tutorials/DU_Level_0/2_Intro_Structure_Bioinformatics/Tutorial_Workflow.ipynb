{
 "cells": [
  {
   "cell_type": "code",
   "execution_count": 2,
   "id": "54c97665",
   "metadata": {},
   "outputs": [],
   "source": [
    "import py3Dmol"
   ]
  },
  {
   "cell_type": "markdown",
   "id": "9bf0a0be",
   "metadata": {},
   "source": [
    "Instantiate py3Dmol viewer with PDB structure 1NCA (Neuraminidase-FAB complex)"
   ]
  },
  {
   "cell_type": "code",
   "execution_count": 3,
   "id": "e036e17a",
   "metadata": {},
   "outputs": [
    {
     "data": {
      "application/3dmoljs_load.v0": "<div id=\"3dmolviewer_1663413776395228\"  style=\"position: relative; width: 640px; height: 480px\">\n        <p id=\"3dmolwarning_1663413776395228\" style=\"background-color:#ffcccc;color:black\">You appear to be running in JupyterLab (or JavaScript failed to load for some other reason).  You need to install the 3dmol extension: <br>\n        <tt>jupyter labextension install jupyterlab_3dmol</tt></p>\n        </div>\n<script>\n\nvar loadScriptAsync = function(uri){\n  return new Promise((resolve, reject) => {\n    var tag = document.createElement('script');\n    tag.src = uri;\n    tag.async = true;\n    tag.onload = () => {\n      resolve();\n    };\n  var firstScriptTag = document.getElementsByTagName('script')[0];\n  firstScriptTag.parentNode.insertBefore(tag, firstScriptTag);\n});\n};\n\nif(typeof $3Dmolpromise === 'undefined') {\n$3Dmolpromise = null;\n  $3Dmolpromise = loadScriptAsync('https://3dmol.org/build/3Dmol.js');\n}\n\nvar viewer_1663413776395228 = null;\nvar warn = document.getElementById(\"3dmolwarning_1663413776395228\");\nif(warn) {\n    warn.parentNode.removeChild(warn);\n}\n$3Dmolpromise.then(function() {\nviewer_1663413776395228 = $3Dmol.createViewer($(\"#3dmolviewer_1663413776395228\"),{backgroundColor:\"white\"});\n$3Dmol.download(\"pdb:1NCA\", viewer_1663413776395228, {}, function() {\nviewer_1663413776395228.zoomTo();\nviewer_1663413776395228.render();\n})\n});\n</script>",
      "text/html": [
       "<div id=\"3dmolviewer_1663413776395228\"  style=\"position: relative; width: 640px; height: 480px\">\n",
       "        <p id=\"3dmolwarning_1663413776395228\" style=\"background-color:#ffcccc;color:black\">You appear to be running in JupyterLab (or JavaScript failed to load for some other reason).  You need to install the 3dmol extension: <br>\n",
       "        <tt>jupyter labextension install jupyterlab_3dmol</tt></p>\n",
       "        </div>\n",
       "<script>\n",
       "\n",
       "var loadScriptAsync = function(uri){\n",
       "  return new Promise((resolve, reject) => {\n",
       "    var tag = document.createElement('script');\n",
       "    tag.src = uri;\n",
       "    tag.async = true;\n",
       "    tag.onload = () => {\n",
       "      resolve();\n",
       "    };\n",
       "  var firstScriptTag = document.getElementsByTagName('script')[0];\n",
       "  firstScriptTag.parentNode.insertBefore(tag, firstScriptTag);\n",
       "});\n",
       "};\n",
       "\n",
       "if(typeof $3Dmolpromise === 'undefined') {\n",
       "$3Dmolpromise = null;\n",
       "  $3Dmolpromise = loadScriptAsync('https://3dmol.org/build/3Dmol.js');\n",
       "}\n",
       "\n",
       "var viewer_1663413776395228 = null;\n",
       "var warn = document.getElementById(\"3dmolwarning_1663413776395228\");\n",
       "if(warn) {\n",
       "    warn.parentNode.removeChild(warn);\n",
       "}\n",
       "$3Dmolpromise.then(function() {\n",
       "viewer_1663413776395228 = $3Dmol.createViewer($(\"#3dmolviewer_1663413776395228\"),{backgroundColor:\"white\"});\n",
       "$3Dmol.download(\"pdb:1NCA\", viewer_1663413776395228, {}, function() {\n",
       "viewer_1663413776395228.zoomTo();\n",
       "viewer_1663413776395228.render();\n",
       "})\n",
       "});\n",
       "</script>"
      ]
     },
     "metadata": {},
     "output_type": "display_data"
    }
   ],
   "source": [
    "viewer = py3Dmol.view(query='pdb:1NCA')\n",
    "viewer.show()"
   ]
  },
  {
   "cell_type": "markdown",
   "id": "db0bdf59",
   "metadata": {},
   "source": [
    "Apply the following styles to this structure:\n",
    "* chain N (Neuraminidase): orange cartoon\n",
    "* chain H (Heavy chain): blue sphere\n",
    "* chain L (Light chain): lightblue sphere\n"
   ]
  },
  {
   "cell_type": "code",
   "execution_count": 4,
   "id": "cd0cd725",
   "metadata": {},
   "outputs": [
    {
     "data": {
      "application/3dmoljs_load.v0": "<div id=\"3dmolviewer_166341378372274\"  style=\"position: relative; width: 640px; height: 480px\">\n        <p id=\"3dmolwarning_166341378372274\" style=\"background-color:#ffcccc;color:black\">You appear to be running in JupyterLab (or JavaScript failed to load for some other reason).  You need to install the 3dmol extension: <br>\n        <tt>jupyter labextension install jupyterlab_3dmol</tt></p>\n        </div>\n<script>\n\nvar loadScriptAsync = function(uri){\n  return new Promise((resolve, reject) => {\n    var tag = document.createElement('script');\n    tag.src = uri;\n    tag.async = true;\n    tag.onload = () => {\n      resolve();\n    };\n  var firstScriptTag = document.getElementsByTagName('script')[0];\n  firstScriptTag.parentNode.insertBefore(tag, firstScriptTag);\n});\n};\n\nif(typeof $3Dmolpromise === 'undefined') {\n$3Dmolpromise = null;\n  $3Dmolpromise = loadScriptAsync('https://3dmol.org/build/3Dmol.js');\n}\n\nvar viewer_166341378372274 = null;\nvar warn = document.getElementById(\"3dmolwarning_166341378372274\");\nif(warn) {\n    warn.parentNode.removeChild(warn);\n}\n$3Dmolpromise.then(function() {\nviewer_166341378372274 = $3Dmol.createViewer($(\"#3dmolviewer_166341378372274\"),{backgroundColor:\"white\"});\n$3Dmol.download(\"pdb:1NCA\", viewer_166341378372274, {}, function() {\nviewer_166341378372274.zoomTo();\n\tviewer_166341378372274.setStyle({\"chain\": \"N\"},{\"cartoon\": {\"color\": \"orange\"}});\n\tviewer_166341378372274.setStyle({\"chain\": \"H\"},{\"sphere\": {\"color\": \"blue\"}});\n\tviewer_166341378372274.setStyle({\"chain\": \"L\"},{\"sphere\": {\"color\": \"lightblue\"}});\nviewer_166341378372274.render();\n})\n});\n</script>",
      "text/html": [
       "<div id=\"3dmolviewer_166341378372274\"  style=\"position: relative; width: 640px; height: 480px\">\n",
       "        <p id=\"3dmolwarning_166341378372274\" style=\"background-color:#ffcccc;color:black\">You appear to be running in JupyterLab (or JavaScript failed to load for some other reason).  You need to install the 3dmol extension: <br>\n",
       "        <tt>jupyter labextension install jupyterlab_3dmol</tt></p>\n",
       "        </div>\n",
       "<script>\n",
       "\n",
       "var loadScriptAsync = function(uri){\n",
       "  return new Promise((resolve, reject) => {\n",
       "    var tag = document.createElement('script');\n",
       "    tag.src = uri;\n",
       "    tag.async = true;\n",
       "    tag.onload = () => {\n",
       "      resolve();\n",
       "    };\n",
       "  var firstScriptTag = document.getElementsByTagName('script')[0];\n",
       "  firstScriptTag.parentNode.insertBefore(tag, firstScriptTag);\n",
       "});\n",
       "};\n",
       "\n",
       "if(typeof $3Dmolpromise === 'undefined') {\n",
       "$3Dmolpromise = null;\n",
       "  $3Dmolpromise = loadScriptAsync('https://3dmol.org/build/3Dmol.js');\n",
       "}\n",
       "\n",
       "var viewer_166341378372274 = null;\n",
       "var warn = document.getElementById(\"3dmolwarning_166341378372274\");\n",
       "if(warn) {\n",
       "    warn.parentNode.removeChild(warn);\n",
       "}\n",
       "$3Dmolpromise.then(function() {\n",
       "viewer_166341378372274 = $3Dmol.createViewer($(\"#3dmolviewer_166341378372274\"),{backgroundColor:\"white\"});\n",
       "$3Dmol.download(\"pdb:1NCA\", viewer_166341378372274, {}, function() {\n",
       "viewer_166341378372274.zoomTo();\n",
       "\tviewer_166341378372274.setStyle({\"chain\": \"N\"},{\"cartoon\": {\"color\": \"orange\"}});\n",
       "\tviewer_166341378372274.setStyle({\"chain\": \"H\"},{\"sphere\": {\"color\": \"blue\"}});\n",
       "\tviewer_166341378372274.setStyle({\"chain\": \"L\"},{\"sphere\": {\"color\": \"lightblue\"}});\n",
       "viewer_166341378372274.render();\n",
       "})\n",
       "});\n",
       "</script>"
      ]
     },
     "metadata": {},
     "output_type": "display_data"
    }
   ],
   "source": [
    "viewer.setStyle({'chain':'N'},{'cartoon': {'color': 'orange'}})\n",
    "viewer.setStyle({'chain':'H'},{'sphere': {'color': 'blue'}})\n",
    "viewer.setStyle({'chain':'L'},{'sphere': {'color': 'lightblue'}})\n",
    "viewer.show()"
   ]
  },
  {
   "cell_type": "markdown",
   "id": "5bdc0569",
   "metadata": {},
   "source": [
    "Add text labels to the three chains"
   ]
  },
  {
   "cell_type": "code",
   "execution_count": 5,
   "id": "e78ce82c",
   "metadata": {},
   "outputs": [
    {
     "data": {
      "application/3dmoljs_load.v0": "<div id=\"3dmolviewer_1663413798212301\"  style=\"position: relative; width: 640px; height: 480px\">\n        <p id=\"3dmolwarning_1663413798212301\" style=\"background-color:#ffcccc;color:black\">You appear to be running in JupyterLab (or JavaScript failed to load for some other reason).  You need to install the 3dmol extension: <br>\n        <tt>jupyter labextension install jupyterlab_3dmol</tt></p>\n        </div>\n<script>\n\nvar loadScriptAsync = function(uri){\n  return new Promise((resolve, reject) => {\n    var tag = document.createElement('script');\n    tag.src = uri;\n    tag.async = true;\n    tag.onload = () => {\n      resolve();\n    };\n  var firstScriptTag = document.getElementsByTagName('script')[0];\n  firstScriptTag.parentNode.insertBefore(tag, firstScriptTag);\n});\n};\n\nif(typeof $3Dmolpromise === 'undefined') {\n$3Dmolpromise = null;\n  $3Dmolpromise = loadScriptAsync('https://3dmol.org/build/3Dmol.js');\n}\n\nvar viewer_1663413798212301 = null;\nvar warn = document.getElementById(\"3dmolwarning_1663413798212301\");\nif(warn) {\n    warn.parentNode.removeChild(warn);\n}\n$3Dmolpromise.then(function() {\nviewer_1663413798212301 = $3Dmol.createViewer($(\"#3dmolviewer_1663413798212301\"),{backgroundColor:\"white\"});\n$3Dmol.download(\"pdb:1NCA\", viewer_1663413798212301, {}, function() {\nviewer_1663413798212301.zoomTo();\n\tviewer_1663413798212301.setStyle({\"chain\": \"N\"},{\"cartoon\": {\"color\": \"orange\"}});\n\tviewer_1663413798212301.setStyle({\"chain\": \"H\"},{\"sphere\": {\"color\": \"blue\"}});\n\tviewer_1663413798212301.setStyle({\"chain\": \"L\"},{\"sphere\": {\"color\": \"lightblue\"}});\n\tviewer_1663413798212301.addLabel(\"Neuraminidase\",{\"fontColor\": \"orange\", \"backgroundColor\": \"lightgray\"},{\"chain\": \"N\"});\n\tviewer_1663413798212301.addLabel(\"Heavy chain\",{\"fontColor\": \"blue\", \"backgroundColor\": \"lightgray\"},{\"chain\": \"H\"});\n\tviewer_1663413798212301.addLabel(\"Light chain\",{\"fontColor\": \"blue\", \"backgroundColor\": \"lightgray\"},{\"chain\": \"L\"});\nviewer_1663413798212301.render();\n})\n});\n</script>",
      "text/html": [
       "<div id=\"3dmolviewer_1663413798212301\"  style=\"position: relative; width: 640px; height: 480px\">\n",
       "        <p id=\"3dmolwarning_1663413798212301\" style=\"background-color:#ffcccc;color:black\">You appear to be running in JupyterLab (or JavaScript failed to load for some other reason).  You need to install the 3dmol extension: <br>\n",
       "        <tt>jupyter labextension install jupyterlab_3dmol</tt></p>\n",
       "        </div>\n",
       "<script>\n",
       "\n",
       "var loadScriptAsync = function(uri){\n",
       "  return new Promise((resolve, reject) => {\n",
       "    var tag = document.createElement('script');\n",
       "    tag.src = uri;\n",
       "    tag.async = true;\n",
       "    tag.onload = () => {\n",
       "      resolve();\n",
       "    };\n",
       "  var firstScriptTag = document.getElementsByTagName('script')[0];\n",
       "  firstScriptTag.parentNode.insertBefore(tag, firstScriptTag);\n",
       "});\n",
       "};\n",
       "\n",
       "if(typeof $3Dmolpromise === 'undefined') {\n",
       "$3Dmolpromise = null;\n",
       "  $3Dmolpromise = loadScriptAsync('https://3dmol.org/build/3Dmol.js');\n",
       "}\n",
       "\n",
       "var viewer_1663413798212301 = null;\n",
       "var warn = document.getElementById(\"3dmolwarning_1663413798212301\");\n",
       "if(warn) {\n",
       "    warn.parentNode.removeChild(warn);\n",
       "}\n",
       "$3Dmolpromise.then(function() {\n",
       "viewer_1663413798212301 = $3Dmol.createViewer($(\"#3dmolviewer_1663413798212301\"),{backgroundColor:\"white\"});\n",
       "$3Dmol.download(\"pdb:1NCA\", viewer_1663413798212301, {}, function() {\n",
       "viewer_1663413798212301.zoomTo();\n",
       "\tviewer_1663413798212301.setStyle({\"chain\": \"N\"},{\"cartoon\": {\"color\": \"orange\"}});\n",
       "\tviewer_1663413798212301.setStyle({\"chain\": \"H\"},{\"sphere\": {\"color\": \"blue\"}});\n",
       "\tviewer_1663413798212301.setStyle({\"chain\": \"L\"},{\"sphere\": {\"color\": \"lightblue\"}});\n",
       "\tviewer_1663413798212301.addLabel(\"Neuraminidase\",{\"fontColor\": \"orange\", \"backgroundColor\": \"lightgray\"},{\"chain\": \"N\"});\n",
       "\tviewer_1663413798212301.addLabel(\"Heavy chain\",{\"fontColor\": \"blue\", \"backgroundColor\": \"lightgray\"},{\"chain\": \"H\"});\n",
       "\tviewer_1663413798212301.addLabel(\"Light chain\",{\"fontColor\": \"blue\", \"backgroundColor\": \"lightgray\"},{\"chain\": \"L\"});\n",
       "viewer_1663413798212301.render();\n",
       "})\n",
       "});\n",
       "</script>"
      ]
     },
     "metadata": {},
     "output_type": "display_data"
    }
   ],
   "source": [
    "viewer.addLabel('Neuraminidase', {'fontColor':'orange', 'backgroundColor':'lightgray'}, \n",
    "                {'chain': 'N'})\n",
    "viewer.addLabel('Heavy chain', {'fontColor':'blue', 'backgroundColor':'lightgray'},\n",
    "                {'chain': 'H'})\n",
    "viewer.addLabel('Light chain', {'fontColor':'blue', 'backgroundColor':'lightgray'},\n",
    "                {'chain': 'L'})\n",
    "viewer.show()"
   ]
  },
  {
   "cell_type": "markdown",
   "id": "7ec2cbc5",
   "metadata": {},
   "source": [
    "Set the style for sugar residues MAN, BMA, and NAG to stick and color by a green Carbon colorscheme."
   ]
  },
  {
   "cell_type": "code",
   "execution_count": 6,
   "id": "68727121",
   "metadata": {},
   "outputs": [
    {
     "data": {
      "application/3dmoljs_load.v0": "<div id=\"3dmolviewer_1663413802038084\"  style=\"position: relative; width: 640px; height: 480px\">\n        <p id=\"3dmolwarning_1663413802038084\" style=\"background-color:#ffcccc;color:black\">You appear to be running in JupyterLab (or JavaScript failed to load for some other reason).  You need to install the 3dmol extension: <br>\n        <tt>jupyter labextension install jupyterlab_3dmol</tt></p>\n        </div>\n<script>\n\nvar loadScriptAsync = function(uri){\n  return new Promise((resolve, reject) => {\n    var tag = document.createElement('script');\n    tag.src = uri;\n    tag.async = true;\n    tag.onload = () => {\n      resolve();\n    };\n  var firstScriptTag = document.getElementsByTagName('script')[0];\n  firstScriptTag.parentNode.insertBefore(tag, firstScriptTag);\n});\n};\n\nif(typeof $3Dmolpromise === 'undefined') {\n$3Dmolpromise = null;\n  $3Dmolpromise = loadScriptAsync('https://3dmol.org/build/3Dmol.js');\n}\n\nvar viewer_1663413802038084 = null;\nvar warn = document.getElementById(\"3dmolwarning_1663413802038084\");\nif(warn) {\n    warn.parentNode.removeChild(warn);\n}\n$3Dmolpromise.then(function() {\nviewer_1663413802038084 = $3Dmol.createViewer($(\"#3dmolviewer_1663413802038084\"),{backgroundColor:\"white\"});\n$3Dmol.download(\"pdb:1NCA\", viewer_1663413802038084, {}, function() {\nviewer_1663413802038084.zoomTo();\n\tviewer_1663413802038084.setStyle({\"chain\": \"N\"},{\"cartoon\": {\"color\": \"orange\"}});\n\tviewer_1663413802038084.setStyle({\"chain\": \"H\"},{\"sphere\": {\"color\": \"blue\"}});\n\tviewer_1663413802038084.setStyle({\"chain\": \"L\"},{\"sphere\": {\"color\": \"lightblue\"}});\n\tviewer_1663413802038084.addLabel(\"Neuraminidase\",{\"fontColor\": \"orange\", \"backgroundColor\": \"lightgray\"},{\"chain\": \"N\"});\n\tviewer_1663413802038084.addLabel(\"Heavy chain\",{\"fontColor\": \"blue\", \"backgroundColor\": \"lightgray\"},{\"chain\": \"H\"});\n\tviewer_1663413802038084.addLabel(\"Light chain\",{\"fontColor\": \"blue\", \"backgroundColor\": \"lightgray\"},{\"chain\": \"L\"});\n\tviewer_1663413802038084.setStyle({\"resn\": [\"MAN\", \"BMA\", \"NAG\"]},{\"stick\": {\"colorscheme\": \"greenCarbon\"}});\nviewer_1663413802038084.render();\n})\n});\n</script>",
      "text/html": [
       "<div id=\"3dmolviewer_1663413802038084\"  style=\"position: relative; width: 640px; height: 480px\">\n",
       "        <p id=\"3dmolwarning_1663413802038084\" style=\"background-color:#ffcccc;color:black\">You appear to be running in JupyterLab (or JavaScript failed to load for some other reason).  You need to install the 3dmol extension: <br>\n",
       "        <tt>jupyter labextension install jupyterlab_3dmol</tt></p>\n",
       "        </div>\n",
       "<script>\n",
       "\n",
       "var loadScriptAsync = function(uri){\n",
       "  return new Promise((resolve, reject) => {\n",
       "    var tag = document.createElement('script');\n",
       "    tag.src = uri;\n",
       "    tag.async = true;\n",
       "    tag.onload = () => {\n",
       "      resolve();\n",
       "    };\n",
       "  var firstScriptTag = document.getElementsByTagName('script')[0];\n",
       "  firstScriptTag.parentNode.insertBefore(tag, firstScriptTag);\n",
       "});\n",
       "};\n",
       "\n",
       "if(typeof $3Dmolpromise === 'undefined') {\n",
       "$3Dmolpromise = null;\n",
       "  $3Dmolpromise = loadScriptAsync('https://3dmol.org/build/3Dmol.js');\n",
       "}\n",
       "\n",
       "var viewer_1663413802038084 = null;\n",
       "var warn = document.getElementById(\"3dmolwarning_1663413802038084\");\n",
       "if(warn) {\n",
       "    warn.parentNode.removeChild(warn);\n",
       "}\n",
       "$3Dmolpromise.then(function() {\n",
       "viewer_1663413802038084 = $3Dmol.createViewer($(\"#3dmolviewer_1663413802038084\"),{backgroundColor:\"white\"});\n",
       "$3Dmol.download(\"pdb:1NCA\", viewer_1663413802038084, {}, function() {\n",
       "viewer_1663413802038084.zoomTo();\n",
       "\tviewer_1663413802038084.setStyle({\"chain\": \"N\"},{\"cartoon\": {\"color\": \"orange\"}});\n",
       "\tviewer_1663413802038084.setStyle({\"chain\": \"H\"},{\"sphere\": {\"color\": \"blue\"}});\n",
       "\tviewer_1663413802038084.setStyle({\"chain\": \"L\"},{\"sphere\": {\"color\": \"lightblue\"}});\n",
       "\tviewer_1663413802038084.addLabel(\"Neuraminidase\",{\"fontColor\": \"orange\", \"backgroundColor\": \"lightgray\"},{\"chain\": \"N\"});\n",
       "\tviewer_1663413802038084.addLabel(\"Heavy chain\",{\"fontColor\": \"blue\", \"backgroundColor\": \"lightgray\"},{\"chain\": \"H\"});\n",
       "\tviewer_1663413802038084.addLabel(\"Light chain\",{\"fontColor\": \"blue\", \"backgroundColor\": \"lightgray\"},{\"chain\": \"L\"});\n",
       "\tviewer_1663413802038084.setStyle({\"resn\": [\"MAN\", \"BMA\", \"NAG\"]},{\"stick\": {\"colorscheme\": \"greenCarbon\"}});\n",
       "viewer_1663413802038084.render();\n",
       "})\n",
       "});\n",
       "</script>"
      ]
     },
     "metadata": {},
     "output_type": "display_data"
    }
   ],
   "source": [
    "viewer.setStyle({'resn': ['MAN', 'BMA', 'NAG']}, {'stick':{'colorscheme': 'greenCarbon'}})\n",
    "viewer.show()"
   ]
  },
  {
   "cell_type": "markdown",
   "id": "5c7c31d4",
   "metadata": {},
   "source": [
    "## HIV-1 Protease structure with ligand Nelfinavir (1UN)\n"
   ]
  },
  {
   "cell_type": "code",
   "execution_count": 7,
   "id": "38a8232d",
   "metadata": {},
   "outputs": [
    {
     "data": {
      "application/3dmoljs_load.v0": "<div id=\"3dmolviewer_1663413809937825\"  style=\"position: relative; width: 640px; height: 480px\">\n        <p id=\"3dmolwarning_1663413809937825\" style=\"background-color:#ffcccc;color:black\">You appear to be running in JupyterLab (or JavaScript failed to load for some other reason).  You need to install the 3dmol extension: <br>\n        <tt>jupyter labextension install jupyterlab_3dmol</tt></p>\n        </div>\n<script>\n\nvar loadScriptAsync = function(uri){\n  return new Promise((resolve, reject) => {\n    var tag = document.createElement('script');\n    tag.src = uri;\n    tag.async = true;\n    tag.onload = () => {\n      resolve();\n    };\n  var firstScriptTag = document.getElementsByTagName('script')[0];\n  firstScriptTag.parentNode.insertBefore(tag, firstScriptTag);\n});\n};\n\nif(typeof $3Dmolpromise === 'undefined') {\n$3Dmolpromise = null;\n  $3Dmolpromise = loadScriptAsync('https://3dmol.org/build/3Dmol.js');\n}\n\nvar viewer_1663413809937825 = null;\nvar warn = document.getElementById(\"3dmolwarning_1663413809937825\");\nif(warn) {\n    warn.parentNode.removeChild(warn);\n}\n$3Dmolpromise.then(function() {\nviewer_1663413809937825 = $3Dmol.createViewer($(\"#3dmolviewer_1663413809937825\"),{backgroundColor:\"white\"});\n$3Dmol.download(\"pdb:1OHR\", viewer_1663413809937825, {}, function() {\nviewer_1663413809937825.zoomTo();\n\tviewer_1663413809937825.setStyle({\"chain\": \"A\"},{\"cartoon\": {\"color\": \"blue\"}});\n\tviewer_1663413809937825.setStyle({\"chain\": \"B\"},{\"cartoon\": {\"color\": \" yellow\"}});\nviewer_1663413809937825.render();\n})\n});\n</script>",
      "text/html": [
       "<div id=\"3dmolviewer_1663413809937825\"  style=\"position: relative; width: 640px; height: 480px\">\n",
       "        <p id=\"3dmolwarning_1663413809937825\" style=\"background-color:#ffcccc;color:black\">You appear to be running in JupyterLab (or JavaScript failed to load for some other reason).  You need to install the 3dmol extension: <br>\n",
       "        <tt>jupyter labextension install jupyterlab_3dmol</tt></p>\n",
       "        </div>\n",
       "<script>\n",
       "\n",
       "var loadScriptAsync = function(uri){\n",
       "  return new Promise((resolve, reject) => {\n",
       "    var tag = document.createElement('script');\n",
       "    tag.src = uri;\n",
       "    tag.async = true;\n",
       "    tag.onload = () => {\n",
       "      resolve();\n",
       "    };\n",
       "  var firstScriptTag = document.getElementsByTagName('script')[0];\n",
       "  firstScriptTag.parentNode.insertBefore(tag, firstScriptTag);\n",
       "});\n",
       "};\n",
       "\n",
       "if(typeof $3Dmolpromise === 'undefined') {\n",
       "$3Dmolpromise = null;\n",
       "  $3Dmolpromise = loadScriptAsync('https://3dmol.org/build/3Dmol.js');\n",
       "}\n",
       "\n",
       "var viewer_1663413809937825 = null;\n",
       "var warn = document.getElementById(\"3dmolwarning_1663413809937825\");\n",
       "if(warn) {\n",
       "    warn.parentNode.removeChild(warn);\n",
       "}\n",
       "$3Dmolpromise.then(function() {\n",
       "viewer_1663413809937825 = $3Dmol.createViewer($(\"#3dmolviewer_1663413809937825\"),{backgroundColor:\"white\"});\n",
       "$3Dmol.download(\"pdb:1OHR\", viewer_1663413809937825, {}, function() {\n",
       "viewer_1663413809937825.zoomTo();\n",
       "\tviewer_1663413809937825.setStyle({\"chain\": \"A\"},{\"cartoon\": {\"color\": \"blue\"}});\n",
       "\tviewer_1663413809937825.setStyle({\"chain\": \"B\"},{\"cartoon\": {\"color\": \" yellow\"}});\n",
       "viewer_1663413809937825.render();\n",
       "})\n",
       "});\n",
       "</script>"
      ]
     },
     "metadata": {},
     "output_type": "display_data"
    }
   ],
   "source": [
    "viewer = py3Dmol.view(query='pdb:1OHR')\n",
    "\n",
    "viewer.setStyle({'chain': 'A'}, {'cartoon': {'color': 'blue'}})\n",
    "viewer.setStyle({'chain': 'B'}, {'cartoon': {'color':' yellow'}})\n",
    "viewer.show()"
   ]
  },
  {
   "cell_type": "markdown",
   "id": "599d51e0",
   "metadata": {},
   "source": [
    "Add a molecular surface to the structure.\n",
    "\n",
    "Note, we use the `hetflag` here to exclude non-protein residues from the surface to have an unobstructed view of the binding site."
   ]
  },
  {
   "cell_type": "code",
   "execution_count": 8,
   "id": "e0c97fb9",
   "metadata": {},
   "outputs": [
    {
     "data": {
      "application/3dmoljs_load.v0": "<div id=\"3dmolviewer_1663413827453238\"  style=\"position: relative; width: 640px; height: 480px\">\n        <p id=\"3dmolwarning_1663413827453238\" style=\"background-color:#ffcccc;color:black\">You appear to be running in JupyterLab (or JavaScript failed to load for some other reason).  You need to install the 3dmol extension: <br>\n        <tt>jupyter labextension install jupyterlab_3dmol</tt></p>\n        </div>\n<script>\n\nvar loadScriptAsync = function(uri){\n  return new Promise((resolve, reject) => {\n    var tag = document.createElement('script');\n    tag.src = uri;\n    tag.async = true;\n    tag.onload = () => {\n      resolve();\n    };\n  var firstScriptTag = document.getElementsByTagName('script')[0];\n  firstScriptTag.parentNode.insertBefore(tag, firstScriptTag);\n});\n};\n\nif(typeof $3Dmolpromise === 'undefined') {\n$3Dmolpromise = null;\n  $3Dmolpromise = loadScriptAsync('https://3dmol.org/build/3Dmol.js');\n}\n\nvar viewer_1663413827453238 = null;\nvar warn = document.getElementById(\"3dmolwarning_1663413827453238\");\nif(warn) {\n    warn.parentNode.removeChild(warn);\n}\n$3Dmolpromise.then(function() {\nviewer_1663413827453238 = $3Dmol.createViewer($(\"#3dmolviewer_1663413827453238\"),{backgroundColor:\"white\"});\n$3Dmol.download(\"pdb:1OHR\", viewer_1663413827453238, {}, function() {\nviewer_1663413827453238.zoomTo();\n\tviewer_1663413827453238.setStyle({\"chain\": \"A\"},{\"cartoon\": {\"color\": \"blue\"}});\n\tviewer_1663413827453238.setStyle({\"chain\": \"B\"},{\"cartoon\": {\"color\": \" yellow\"}});\n\tviewer_1663413827453238.addSurface(2,{\"opacity\": 0.9, \"color\": \"lightblue\"},{\"chain\": \"A\", \"hetflag\": false});\n\tviewer_1663413827453238.addSurface(2,{\"opacity\": 0.9, \"color\": \"lightyellow\"},{\"chain\": \"B\", \"hetflag\": false});\nviewer_1663413827453238.render();\n})\n});\n</script>",
      "text/html": [
       "<div id=\"3dmolviewer_1663413827453238\"  style=\"position: relative; width: 640px; height: 480px\">\n",
       "        <p id=\"3dmolwarning_1663413827453238\" style=\"background-color:#ffcccc;color:black\">You appear to be running in JupyterLab (or JavaScript failed to load for some other reason).  You need to install the 3dmol extension: <br>\n",
       "        <tt>jupyter labextension install jupyterlab_3dmol</tt></p>\n",
       "        </div>\n",
       "<script>\n",
       "\n",
       "var loadScriptAsync = function(uri){\n",
       "  return new Promise((resolve, reject) => {\n",
       "    var tag = document.createElement('script');\n",
       "    tag.src = uri;\n",
       "    tag.async = true;\n",
       "    tag.onload = () => {\n",
       "      resolve();\n",
       "    };\n",
       "  var firstScriptTag = document.getElementsByTagName('script')[0];\n",
       "  firstScriptTag.parentNode.insertBefore(tag, firstScriptTag);\n",
       "});\n",
       "};\n",
       "\n",
       "if(typeof $3Dmolpromise === 'undefined') {\n",
       "$3Dmolpromise = null;\n",
       "  $3Dmolpromise = loadScriptAsync('https://3dmol.org/build/3Dmol.js');\n",
       "}\n",
       "\n",
       "var viewer_1663413827453238 = null;\n",
       "var warn = document.getElementById(\"3dmolwarning_1663413827453238\");\n",
       "if(warn) {\n",
       "    warn.parentNode.removeChild(warn);\n",
       "}\n",
       "$3Dmolpromise.then(function() {\n",
       "viewer_1663413827453238 = $3Dmol.createViewer($(\"#3dmolviewer_1663413827453238\"),{backgroundColor:\"white\"});\n",
       "$3Dmol.download(\"pdb:1OHR\", viewer_1663413827453238, {}, function() {\n",
       "viewer_1663413827453238.zoomTo();\n",
       "\tviewer_1663413827453238.setStyle({\"chain\": \"A\"},{\"cartoon\": {\"color\": \"blue\"}});\n",
       "\tviewer_1663413827453238.setStyle({\"chain\": \"B\"},{\"cartoon\": {\"color\": \" yellow\"}});\n",
       "\tviewer_1663413827453238.addSurface(2,{\"opacity\": 0.9, \"color\": \"lightblue\"},{\"chain\": \"A\", \"hetflag\": false});\n",
       "\tviewer_1663413827453238.addSurface(2,{\"opacity\": 0.9, \"color\": \"lightyellow\"},{\"chain\": \"B\", \"hetflag\": false});\n",
       "viewer_1663413827453238.render();\n",
       "})\n",
       "});\n",
       "</script>"
      ]
     },
     "metadata": {},
     "output_type": "display_data"
    }
   ],
   "source": [
    "viewer.addSurface(py3Dmol.MS,{'opacity':0.9,'color':'lightblue'}, \n",
    "                  {'chain': 'A', 'hetflag' : False})\n",
    "                   \n",
    "viewer.addSurface(py3Dmol.MS,{'opacity':0.9,'color':'lightyellow'}, \n",
    "                  {'chain': 'B', 'hetflag' : False})\n",
    "viewer.show()"
   ]
  },
  {
   "cell_type": "markdown",
   "id": "0438bbda",
   "metadata": {},
   "source": [
    "Set the style for the ligand\n",
    "\n",
    "Set style for ligand 1UN to sphere and color by greenCarbon color scheme."
   ]
  },
  {
   "cell_type": "code",
   "execution_count": 9,
   "id": "3deaa787",
   "metadata": {},
   "outputs": [
    {
     "data": {
      "application/3dmoljs_load.v0": "<div id=\"3dmolviewer_16634138490884328\"  style=\"position: relative; width: 640px; height: 480px\">\n        <p id=\"3dmolwarning_16634138490884328\" style=\"background-color:#ffcccc;color:black\">You appear to be running in JupyterLab (or JavaScript failed to load for some other reason).  You need to install the 3dmol extension: <br>\n        <tt>jupyter labextension install jupyterlab_3dmol</tt></p>\n        </div>\n<script>\n\nvar loadScriptAsync = function(uri){\n  return new Promise((resolve, reject) => {\n    var tag = document.createElement('script');\n    tag.src = uri;\n    tag.async = true;\n    tag.onload = () => {\n      resolve();\n    };\n  var firstScriptTag = document.getElementsByTagName('script')[0];\n  firstScriptTag.parentNode.insertBefore(tag, firstScriptTag);\n});\n};\n\nif(typeof $3Dmolpromise === 'undefined') {\n$3Dmolpromise = null;\n  $3Dmolpromise = loadScriptAsync('https://3dmol.org/build/3Dmol.js');\n}\n\nvar viewer_16634138490884328 = null;\nvar warn = document.getElementById(\"3dmolwarning_16634138490884328\");\nif(warn) {\n    warn.parentNode.removeChild(warn);\n}\n$3Dmolpromise.then(function() {\nviewer_16634138490884328 = $3Dmol.createViewer($(\"#3dmolviewer_16634138490884328\"),{backgroundColor:\"white\"});\n$3Dmol.download(\"pdb:1OHR\", viewer_16634138490884328, {}, function() {\nviewer_16634138490884328.zoomTo();\n\tviewer_16634138490884328.setStyle({\"chain\": \"A\"},{\"cartoon\": {\"color\": \"blue\"}});\n\tviewer_16634138490884328.setStyle({\"chain\": \"B\"},{\"cartoon\": {\"color\": \" yellow\"}});\n\tviewer_16634138490884328.addSurface(2,{\"opacity\": 0.9, \"color\": \"lightblue\"},{\"chain\": \"A\", \"hetflag\": false});\n\tviewer_16634138490884328.addSurface(2,{\"opacity\": 0.9, \"color\": \"lightyellow\"},{\"chain\": \"B\", \"hetflag\": false});\n\tviewer_16634138490884328.setStyle({\"resn\": \"1UN\"},{\"sphere\": {\"colorscheme\": \"greenCarbon\"}});\nviewer_16634138490884328.render();\n})\n});\n</script>",
      "text/html": [
       "<div id=\"3dmolviewer_16634138490884328\"  style=\"position: relative; width: 640px; height: 480px\">\n",
       "        <p id=\"3dmolwarning_16634138490884328\" style=\"background-color:#ffcccc;color:black\">You appear to be running in JupyterLab (or JavaScript failed to load for some other reason).  You need to install the 3dmol extension: <br>\n",
       "        <tt>jupyter labextension install jupyterlab_3dmol</tt></p>\n",
       "        </div>\n",
       "<script>\n",
       "\n",
       "var loadScriptAsync = function(uri){\n",
       "  return new Promise((resolve, reject) => {\n",
       "    var tag = document.createElement('script');\n",
       "    tag.src = uri;\n",
       "    tag.async = true;\n",
       "    tag.onload = () => {\n",
       "      resolve();\n",
       "    };\n",
       "  var firstScriptTag = document.getElementsByTagName('script')[0];\n",
       "  firstScriptTag.parentNode.insertBefore(tag, firstScriptTag);\n",
       "});\n",
       "};\n",
       "\n",
       "if(typeof $3Dmolpromise === 'undefined') {\n",
       "$3Dmolpromise = null;\n",
       "  $3Dmolpromise = loadScriptAsync('https://3dmol.org/build/3Dmol.js');\n",
       "}\n",
       "\n",
       "var viewer_16634138490884328 = null;\n",
       "var warn = document.getElementById(\"3dmolwarning_16634138490884328\");\n",
       "if(warn) {\n",
       "    warn.parentNode.removeChild(warn);\n",
       "}\n",
       "$3Dmolpromise.then(function() {\n",
       "viewer_16634138490884328 = $3Dmol.createViewer($(\"#3dmolviewer_16634138490884328\"),{backgroundColor:\"white\"});\n",
       "$3Dmol.download(\"pdb:1OHR\", viewer_16634138490884328, {}, function() {\n",
       "viewer_16634138490884328.zoomTo();\n",
       "\tviewer_16634138490884328.setStyle({\"chain\": \"A\"},{\"cartoon\": {\"color\": \"blue\"}});\n",
       "\tviewer_16634138490884328.setStyle({\"chain\": \"B\"},{\"cartoon\": {\"color\": \" yellow\"}});\n",
       "\tviewer_16634138490884328.addSurface(2,{\"opacity\": 0.9, \"color\": \"lightblue\"},{\"chain\": \"A\", \"hetflag\": false});\n",
       "\tviewer_16634138490884328.addSurface(2,{\"opacity\": 0.9, \"color\": \"lightyellow\"},{\"chain\": \"B\", \"hetflag\": false});\n",
       "\tviewer_16634138490884328.setStyle({\"resn\": \"1UN\"},{\"sphere\": {\"colorscheme\": \"greenCarbon\"}});\n",
       "viewer_16634138490884328.render();\n",
       "})\n",
       "});\n",
       "</script>"
      ]
     },
     "metadata": {},
     "output_type": "display_data"
    }
   ],
   "source": [
    "viewer.setStyle({'resn': '1UN'},{'sphere': {'colorscheme': 'greenCarbon'}})\n",
    "viewer.show()"
   ]
  },
  {
   "cell_type": "markdown",
   "id": "ef0afe35",
   "metadata": {},
   "source": [
    "Annotate the binding site\n",
    "\n",
    "Render the ligand as stick, display the bond orders, and add the label 'Nelfinavir'."
   ]
  },
  {
   "cell_type": "code",
   "execution_count": 10,
   "id": "8c310754",
   "metadata": {},
   "outputs": [
    {
     "data": {
      "application/3dmoljs_load.v0": "<div id=\"3dmolviewer_16634138559058938\"  style=\"position: relative; width: 640px; height: 480px\">\n        <p id=\"3dmolwarning_16634138559058938\" style=\"background-color:#ffcccc;color:black\">You appear to be running in JupyterLab (or JavaScript failed to load for some other reason).  You need to install the 3dmol extension: <br>\n        <tt>jupyter labextension install jupyterlab_3dmol</tt></p>\n        </div>\n<script>\n\nvar loadScriptAsync = function(uri){\n  return new Promise((resolve, reject) => {\n    var tag = document.createElement('script');\n    tag.src = uri;\n    tag.async = true;\n    tag.onload = () => {\n      resolve();\n    };\n  var firstScriptTag = document.getElementsByTagName('script')[0];\n  firstScriptTag.parentNode.insertBefore(tag, firstScriptTag);\n});\n};\n\nif(typeof $3Dmolpromise === 'undefined') {\n$3Dmolpromise = null;\n  $3Dmolpromise = loadScriptAsync('https://3dmol.org/build/3Dmol.js');\n}\n\nvar viewer_16634138559058938 = null;\nvar warn = document.getElementById(\"3dmolwarning_16634138559058938\");\nif(warn) {\n    warn.parentNode.removeChild(warn);\n}\n$3Dmolpromise.then(function() {\nviewer_16634138559058938 = $3Dmol.createViewer($(\"#3dmolviewer_16634138559058938\"),{backgroundColor:\"white\"});\n$3Dmol.download(\"pdb:1OHR\", viewer_16634138559058938, {}, function() {\nviewer_16634138559058938.zoomTo();\n\tviewer_16634138559058938.setStyle({\"chain\": \"A\"},{\"cartoon\": {\"color\": \"blue\"}});\n\tviewer_16634138559058938.setStyle({\"chain\": \"B\"},{\"cartoon\": {\"color\": \" yellow\"}});\n\tviewer_16634138559058938.addSurface(2,{\"opacity\": 0.9, \"color\": \"lightblue\"},{\"chain\": \"A\", \"hetflag\": false});\n\tviewer_16634138559058938.addSurface(2,{\"opacity\": 0.9, \"color\": \"lightyellow\"},{\"chain\": \"B\", \"hetflag\": false});\n\tviewer_16634138559058938.setStyle({\"resn\": \"1UN\"},{\"sphere\": {\"colorscheme\": \"greenCarbon\"}});\n\tviewer_16634138559058938.setStyle({\"resn\": \"1UN\"},{\"stick\": {\"radius\": 0.3, \"singleBond\": false}});\n\tviewer_16634138559058938.addLabel(\"Nelfinavir\",{\"fontColor\": \"black\", \"backgroundColor\": \"lightgray\"},{\"resn\": \"1UN\"});\n\tviewer_16634138559058938.zoomTo({\"resn\": \"1UN\"});\nviewer_16634138559058938.render();\n})\n});\n</script>",
      "text/html": [
       "<div id=\"3dmolviewer_16634138559058938\"  style=\"position: relative; width: 640px; height: 480px\">\n",
       "        <p id=\"3dmolwarning_16634138559058938\" style=\"background-color:#ffcccc;color:black\">You appear to be running in JupyterLab (or JavaScript failed to load for some other reason).  You need to install the 3dmol extension: <br>\n",
       "        <tt>jupyter labextension install jupyterlab_3dmol</tt></p>\n",
       "        </div>\n",
       "<script>\n",
       "\n",
       "var loadScriptAsync = function(uri){\n",
       "  return new Promise((resolve, reject) => {\n",
       "    var tag = document.createElement('script');\n",
       "    tag.src = uri;\n",
       "    tag.async = true;\n",
       "    tag.onload = () => {\n",
       "      resolve();\n",
       "    };\n",
       "  var firstScriptTag = document.getElementsByTagName('script')[0];\n",
       "  firstScriptTag.parentNode.insertBefore(tag, firstScriptTag);\n",
       "});\n",
       "};\n",
       "\n",
       "if(typeof $3Dmolpromise === 'undefined') {\n",
       "$3Dmolpromise = null;\n",
       "  $3Dmolpromise = loadScriptAsync('https://3dmol.org/build/3Dmol.js');\n",
       "}\n",
       "\n",
       "var viewer_16634138559058938 = null;\n",
       "var warn = document.getElementById(\"3dmolwarning_16634138559058938\");\n",
       "if(warn) {\n",
       "    warn.parentNode.removeChild(warn);\n",
       "}\n",
       "$3Dmolpromise.then(function() {\n",
       "viewer_16634138559058938 = $3Dmol.createViewer($(\"#3dmolviewer_16634138559058938\"),{backgroundColor:\"white\"});\n",
       "$3Dmol.download(\"pdb:1OHR\", viewer_16634138559058938, {}, function() {\n",
       "viewer_16634138559058938.zoomTo();\n",
       "\tviewer_16634138559058938.setStyle({\"chain\": \"A\"},{\"cartoon\": {\"color\": \"blue\"}});\n",
       "\tviewer_16634138559058938.setStyle({\"chain\": \"B\"},{\"cartoon\": {\"color\": \" yellow\"}});\n",
       "\tviewer_16634138559058938.addSurface(2,{\"opacity\": 0.9, \"color\": \"lightblue\"},{\"chain\": \"A\", \"hetflag\": false});\n",
       "\tviewer_16634138559058938.addSurface(2,{\"opacity\": 0.9, \"color\": \"lightyellow\"},{\"chain\": \"B\", \"hetflag\": false});\n",
       "\tviewer_16634138559058938.setStyle({\"resn\": \"1UN\"},{\"sphere\": {\"colorscheme\": \"greenCarbon\"}});\n",
       "\tviewer_16634138559058938.setStyle({\"resn\": \"1UN\"},{\"stick\": {\"radius\": 0.3, \"singleBond\": false}});\n",
       "\tviewer_16634138559058938.addLabel(\"Nelfinavir\",{\"fontColor\": \"black\", \"backgroundColor\": \"lightgray\"},{\"resn\": \"1UN\"});\n",
       "\tviewer_16634138559058938.zoomTo({\"resn\": \"1UN\"});\n",
       "viewer_16634138559058938.render();\n",
       "})\n",
       "});\n",
       "</script>"
      ]
     },
     "metadata": {},
     "output_type": "display_data"
    }
   ],
   "source": [
    "ligand = {'resn': '1UN'}\n",
    "viewer.setStyle(ligand, {'stick':{'radius': 0.3, 'singleBond': False}})\n",
    "viewer.addLabel('Nelfinavir', {'fontColor':'black', 'backgroundColor':'lightgray'},ligand)\n",
    "viewer.zoomTo(ligand)\n",
    "viewer.show()"
   ]
  },
  {
   "cell_type": "code",
   "execution_count": null,
   "id": "fb3eed8a",
   "metadata": {},
   "outputs": [],
   "source": []
  }
 ],
 "metadata": {
  "kernelspec": {
   "display_name": "Python 3",
   "language": "python",
   "name": "python3"
  },
  "language_info": {
   "codemirror_mode": {
    "name": "ipython",
    "version": 3
   },
   "file_extension": ".py",
   "mimetype": "text/x-python",
   "name": "python",
   "nbconvert_exporter": "python",
   "pygments_lexer": "ipython3",
   "version": "3.8.8"
  }
 },
 "nbformat": 4,
 "nbformat_minor": 5
}
